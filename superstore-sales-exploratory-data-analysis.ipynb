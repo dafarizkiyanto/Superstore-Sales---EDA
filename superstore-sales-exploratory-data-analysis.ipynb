{
 "cells": [
  {
   "cell_type": "code",
   "execution_count": 1,
   "id": "15e7cf7a",
   "metadata": {
    "execution": {
     "iopub.execute_input": "2024-11-12T16:57:20.627801Z",
     "iopub.status.busy": "2024-11-12T16:57:20.627253Z",
     "iopub.status.idle": "2024-11-12T16:57:21.745898Z",
     "shell.execute_reply": "2024-11-12T16:57:21.744513Z"
    },
    "executionInfo": {
     "elapsed": 363,
     "status": "ok",
     "timestamp": 1730368883726,
     "user": {
      "displayName": "Muhamad Dafa Rizkiyanto",
      "userId": "16029394966179110856"
     },
     "user_tz": -420
    },
    "id": "K5yfa1KLLVME",
    "papermill": {
     "duration": 1.147302,
     "end_time": "2024-11-12T16:57:21.748855",
     "exception": false,
     "start_time": "2024-11-12T16:57:20.601553",
     "status": "completed"
    },
    "tags": []
   },
   "outputs": [],
   "source": [
    "import pandas as pd\n",
    "import matplotlib.pyplot as plt\n",
    "import numpy as np"
   ]
  },
  {
   "cell_type": "code",
   "execution_count": 2,
   "id": "c1d87781",
   "metadata": {
    "execution": {
     "iopub.execute_input": "2024-11-12T16:57:21.797754Z",
     "iopub.status.busy": "2024-11-12T16:57:21.797204Z",
     "iopub.status.idle": "2024-11-12T16:57:21.809375Z",
     "shell.execute_reply": "2024-11-12T16:57:21.808003Z"
    },
    "papermill": {
     "duration": 0.038876,
     "end_time": "2024-11-12T16:57:21.811925",
     "exception": false,
     "start_time": "2024-11-12T16:57:21.773049",
     "status": "completed"
    },
    "tags": []
   },
   "outputs": [
    {
     "name": "stdout",
     "output_type": "stream",
     "text": [
      "/kaggle/input/superstore-sales-eda/train.csv\n"
     ]
    }
   ],
   "source": [
    "import os\n",
    "for dirname, _, filenames in os.walk('/kaggle/input'):\n",
    "    for filename in filenames:\n",
    "        print(os.path.join(dirname, filename))\n"
   ]
  },
  {
   "cell_type": "code",
   "execution_count": 3,
   "id": "2f920d2b",
   "metadata": {
    "execution": {
     "iopub.execute_input": "2024-11-12T16:57:21.860002Z",
     "iopub.status.busy": "2024-11-12T16:57:21.858936Z",
     "iopub.status.idle": "2024-11-12T16:57:21.989675Z",
     "shell.execute_reply": "2024-11-12T16:57:21.988524Z"
    },
    "executionInfo": {
     "elapsed": 653,
     "status": "ok",
     "timestamp": 1730368884744,
     "user": {
      "displayName": "Muhamad Dafa Rizkiyanto",
      "userId": "16029394966179110856"
     },
     "user_tz": -420
    },
    "id": "2t4WdZ5dLqg1",
    "outputId": "f0a70dee-2826-4822-b088-3e0235acdf1f",
    "papermill": {
     "duration": 0.157649,
     "end_time": "2024-11-12T16:57:21.992423",
     "exception": false,
     "start_time": "2024-11-12T16:57:21.834774",
     "status": "completed"
    },
    "tags": []
   },
   "outputs": [
    {
     "data": {
      "text/html": [
       "<div>\n",
       "<style scoped>\n",
       "    .dataframe tbody tr th:only-of-type {\n",
       "        vertical-align: middle;\n",
       "    }\n",
       "\n",
       "    .dataframe tbody tr th {\n",
       "        vertical-align: top;\n",
       "    }\n",
       "\n",
       "    .dataframe thead th {\n",
       "        text-align: right;\n",
       "    }\n",
       "</style>\n",
       "<table border=\"1\" class=\"dataframe\">\n",
       "  <thead>\n",
       "    <tr style=\"text-align: right;\">\n",
       "      <th></th>\n",
       "      <th>Row ID</th>\n",
       "      <th>Order ID</th>\n",
       "      <th>Order Date</th>\n",
       "      <th>Ship Date</th>\n",
       "      <th>Ship Mode</th>\n",
       "      <th>Customer ID</th>\n",
       "      <th>Customer Name</th>\n",
       "      <th>Segment</th>\n",
       "      <th>Country</th>\n",
       "      <th>City</th>\n",
       "      <th>State</th>\n",
       "      <th>Postal Code</th>\n",
       "      <th>Region</th>\n",
       "      <th>Product ID</th>\n",
       "      <th>Category</th>\n",
       "      <th>Sub-Category</th>\n",
       "      <th>Product Name</th>\n",
       "      <th>Sales</th>\n",
       "    </tr>\n",
       "  </thead>\n",
       "  <tbody>\n",
       "    <tr>\n",
       "      <th>0</th>\n",
       "      <td>1</td>\n",
       "      <td>CA-2017-152156</td>\n",
       "      <td>08/11/2017</td>\n",
       "      <td>11/11/2017</td>\n",
       "      <td>Second Class</td>\n",
       "      <td>CG-12520</td>\n",
       "      <td>Claire Gute</td>\n",
       "      <td>Consumer</td>\n",
       "      <td>United States</td>\n",
       "      <td>Henderson</td>\n",
       "      <td>Kentucky</td>\n",
       "      <td>42420.0</td>\n",
       "      <td>South</td>\n",
       "      <td>FUR-BO-10001798</td>\n",
       "      <td>Furniture</td>\n",
       "      <td>Bookcases</td>\n",
       "      <td>Bush Somerset Collection Bookcase</td>\n",
       "      <td>261.9600</td>\n",
       "    </tr>\n",
       "    <tr>\n",
       "      <th>1</th>\n",
       "      <td>2</td>\n",
       "      <td>CA-2017-152156</td>\n",
       "      <td>08/11/2017</td>\n",
       "      <td>11/11/2017</td>\n",
       "      <td>Second Class</td>\n",
       "      <td>CG-12520</td>\n",
       "      <td>Claire Gute</td>\n",
       "      <td>Consumer</td>\n",
       "      <td>United States</td>\n",
       "      <td>Henderson</td>\n",
       "      <td>Kentucky</td>\n",
       "      <td>42420.0</td>\n",
       "      <td>South</td>\n",
       "      <td>FUR-CH-10000454</td>\n",
       "      <td>Furniture</td>\n",
       "      <td>Chairs</td>\n",
       "      <td>Hon Deluxe Fabric Upholstered Stacking Chairs,...</td>\n",
       "      <td>731.9400</td>\n",
       "    </tr>\n",
       "    <tr>\n",
       "      <th>2</th>\n",
       "      <td>3</td>\n",
       "      <td>CA-2017-138688</td>\n",
       "      <td>12/06/2017</td>\n",
       "      <td>16/06/2017</td>\n",
       "      <td>Second Class</td>\n",
       "      <td>DV-13045</td>\n",
       "      <td>Darrin Van Huff</td>\n",
       "      <td>Corporate</td>\n",
       "      <td>United States</td>\n",
       "      <td>Los Angeles</td>\n",
       "      <td>California</td>\n",
       "      <td>90036.0</td>\n",
       "      <td>West</td>\n",
       "      <td>OFF-LA-10000240</td>\n",
       "      <td>Office Supplies</td>\n",
       "      <td>Labels</td>\n",
       "      <td>Self-Adhesive Address Labels for Typewriters b...</td>\n",
       "      <td>14.6200</td>\n",
       "    </tr>\n",
       "    <tr>\n",
       "      <th>3</th>\n",
       "      <td>4</td>\n",
       "      <td>US-2016-108966</td>\n",
       "      <td>11/10/2016</td>\n",
       "      <td>18/10/2016</td>\n",
       "      <td>Standard Class</td>\n",
       "      <td>SO-20335</td>\n",
       "      <td>Sean O'Donnell</td>\n",
       "      <td>Consumer</td>\n",
       "      <td>United States</td>\n",
       "      <td>Fort Lauderdale</td>\n",
       "      <td>Florida</td>\n",
       "      <td>33311.0</td>\n",
       "      <td>South</td>\n",
       "      <td>FUR-TA-10000577</td>\n",
       "      <td>Furniture</td>\n",
       "      <td>Tables</td>\n",
       "      <td>Bretford CR4500 Series Slim Rectangular Table</td>\n",
       "      <td>957.5775</td>\n",
       "    </tr>\n",
       "    <tr>\n",
       "      <th>4</th>\n",
       "      <td>5</td>\n",
       "      <td>US-2016-108966</td>\n",
       "      <td>11/10/2016</td>\n",
       "      <td>18/10/2016</td>\n",
       "      <td>Standard Class</td>\n",
       "      <td>SO-20335</td>\n",
       "      <td>Sean O'Donnell</td>\n",
       "      <td>Consumer</td>\n",
       "      <td>United States</td>\n",
       "      <td>Fort Lauderdale</td>\n",
       "      <td>Florida</td>\n",
       "      <td>33311.0</td>\n",
       "      <td>South</td>\n",
       "      <td>OFF-ST-10000760</td>\n",
       "      <td>Office Supplies</td>\n",
       "      <td>Storage</td>\n",
       "      <td>Eldon Fold 'N Roll Cart System</td>\n",
       "      <td>22.3680</td>\n",
       "    </tr>\n",
       "  </tbody>\n",
       "</table>\n",
       "</div>"
      ],
      "text/plain": [
       "   Row ID        Order ID  Order Date   Ship Date       Ship Mode Customer ID  \\\n",
       "0       1  CA-2017-152156  08/11/2017  11/11/2017    Second Class    CG-12520   \n",
       "1       2  CA-2017-152156  08/11/2017  11/11/2017    Second Class    CG-12520   \n",
       "2       3  CA-2017-138688  12/06/2017  16/06/2017    Second Class    DV-13045   \n",
       "3       4  US-2016-108966  11/10/2016  18/10/2016  Standard Class    SO-20335   \n",
       "4       5  US-2016-108966  11/10/2016  18/10/2016  Standard Class    SO-20335   \n",
       "\n",
       "     Customer Name    Segment        Country             City       State  \\\n",
       "0      Claire Gute   Consumer  United States        Henderson    Kentucky   \n",
       "1      Claire Gute   Consumer  United States        Henderson    Kentucky   \n",
       "2  Darrin Van Huff  Corporate  United States      Los Angeles  California   \n",
       "3   Sean O'Donnell   Consumer  United States  Fort Lauderdale     Florida   \n",
       "4   Sean O'Donnell   Consumer  United States  Fort Lauderdale     Florida   \n",
       "\n",
       "   Postal Code Region       Product ID         Category Sub-Category  \\\n",
       "0      42420.0  South  FUR-BO-10001798        Furniture    Bookcases   \n",
       "1      42420.0  South  FUR-CH-10000454        Furniture       Chairs   \n",
       "2      90036.0   West  OFF-LA-10000240  Office Supplies       Labels   \n",
       "3      33311.0  South  FUR-TA-10000577        Furniture       Tables   \n",
       "4      33311.0  South  OFF-ST-10000760  Office Supplies      Storage   \n",
       "\n",
       "                                        Product Name     Sales  \n",
       "0                  Bush Somerset Collection Bookcase  261.9600  \n",
       "1  Hon Deluxe Fabric Upholstered Stacking Chairs,...  731.9400  \n",
       "2  Self-Adhesive Address Labels for Typewriters b...   14.6200  \n",
       "3      Bretford CR4500 Series Slim Rectangular Table  957.5775  \n",
       "4                     Eldon Fold 'N Roll Cart System   22.3680  "
      ]
     },
     "execution_count": 3,
     "metadata": {},
     "output_type": "execute_result"
    }
   ],
   "source": [
    "sales_data = pd.read_csv('/kaggle/input/superstore-sales-eda/train.csv')\n",
    "sales_data.head()"
   ]
  },
  {
   "cell_type": "code",
   "execution_count": 4,
   "id": "388b11bd",
   "metadata": {
    "execution": {
     "iopub.execute_input": "2024-11-12T16:57:22.041592Z",
     "iopub.status.busy": "2024-11-12T16:57:22.041168Z",
     "iopub.status.idle": "2024-11-12T16:57:22.089267Z",
     "shell.execute_reply": "2024-11-12T16:57:22.088077Z"
    },
    "executionInfo": {
     "elapsed": 20,
     "status": "ok",
     "timestamp": 1730368884744,
     "user": {
      "displayName": "Muhamad Dafa Rizkiyanto",
      "userId": "16029394966179110856"
     },
     "user_tz": -420
    },
    "id": "CJf_vHy6MRUc",
    "outputId": "cacf55d1-0975-4c09-a5d5-dc8b51d74c43",
    "papermill": {
     "duration": 0.075463,
     "end_time": "2024-11-12T16:57:22.091882",
     "exception": false,
     "start_time": "2024-11-12T16:57:22.016419",
     "status": "completed"
    },
    "tags": []
   },
   "outputs": [
    {
     "name": "stdout",
     "output_type": "stream",
     "text": [
      "<class 'pandas.core.frame.DataFrame'>\n",
      "RangeIndex: 9800 entries, 0 to 9799\n",
      "Data columns (total 18 columns):\n",
      " #   Column         Non-Null Count  Dtype  \n",
      "---  ------         --------------  -----  \n",
      " 0   Row ID         9800 non-null   int64  \n",
      " 1   Order ID       9800 non-null   object \n",
      " 2   Order Date     9800 non-null   object \n",
      " 3   Ship Date      9800 non-null   object \n",
      " 4   Ship Mode      9800 non-null   object \n",
      " 5   Customer ID    9800 non-null   object \n",
      " 6   Customer Name  9800 non-null   object \n",
      " 7   Segment        9800 non-null   object \n",
      " 8   Country        9800 non-null   object \n",
      " 9   City           9800 non-null   object \n",
      " 10  State          9800 non-null   object \n",
      " 11  Postal Code    9789 non-null   float64\n",
      " 12  Region         9800 non-null   object \n",
      " 13  Product ID     9800 non-null   object \n",
      " 14  Category       9800 non-null   object \n",
      " 15  Sub-Category   9800 non-null   object \n",
      " 16  Product Name   9800 non-null   object \n",
      " 17  Sales          9800 non-null   float64\n",
      "dtypes: float64(2), int64(1), object(15)\n",
      "memory usage: 1.3+ MB\n"
     ]
    }
   ],
   "source": [
    "sales_data.info()"
   ]
  },
  {
   "cell_type": "code",
   "execution_count": 5,
   "id": "80a6b135",
   "metadata": {
    "execution": {
     "iopub.execute_input": "2024-11-12T16:57:22.141786Z",
     "iopub.status.busy": "2024-11-12T16:57:22.140906Z",
     "iopub.status.idle": "2024-11-12T16:57:22.148163Z",
     "shell.execute_reply": "2024-11-12T16:57:22.147072Z"
    },
    "executionInfo": {
     "elapsed": 19,
     "status": "ok",
     "timestamp": 1730368884745,
     "user": {
      "displayName": "Muhamad Dafa Rizkiyanto",
      "userId": "16029394966179110856"
     },
     "user_tz": -420
    },
    "id": "I3R3ZJiPL7MC",
    "outputId": "775dee45-0652-4633-8019-cd49e2425148",
    "papermill": {
     "duration": 0.034783,
     "end_time": "2024-11-12T16:57:22.150595",
     "exception": false,
     "start_time": "2024-11-12T16:57:22.115812",
     "status": "completed"
    },
    "tags": []
   },
   "outputs": [
    {
     "data": {
      "text/plain": [
       "(9800, 18)"
      ]
     },
     "execution_count": 5,
     "metadata": {},
     "output_type": "execute_result"
    }
   ],
   "source": [
    "sales_data.shape"
   ]
  },
  {
   "cell_type": "code",
   "execution_count": 6,
   "id": "215874b7",
   "metadata": {
    "execution": {
     "iopub.execute_input": "2024-11-12T16:57:22.201142Z",
     "iopub.status.busy": "2024-11-12T16:57:22.200096Z",
     "iopub.status.idle": "2024-11-12T16:57:22.226511Z",
     "shell.execute_reply": "2024-11-12T16:57:22.225374Z"
    },
    "executionInfo": {
     "elapsed": 16,
     "status": "ok",
     "timestamp": 1730368884745,
     "user": {
      "displayName": "Muhamad Dafa Rizkiyanto",
      "userId": "16029394966179110856"
     },
     "user_tz": -420
    },
    "id": "3uXvJKSYMGPY",
    "outputId": "046c6d90-6d49-497e-bc81-c99b492119fb",
    "papermill": {
     "duration": 0.054325,
     "end_time": "2024-11-12T16:57:22.228974",
     "exception": false,
     "start_time": "2024-11-12T16:57:22.174649",
     "status": "completed"
    },
    "tags": []
   },
   "outputs": [
    {
     "data": {
      "text/plain": [
       "Row ID            0\n",
       "Order ID          0\n",
       "Order Date        0\n",
       "Ship Date         0\n",
       "Ship Mode         0\n",
       "Customer ID       0\n",
       "Customer Name     0\n",
       "Segment           0\n",
       "Country           0\n",
       "City              0\n",
       "State             0\n",
       "Postal Code      11\n",
       "Region            0\n",
       "Product ID        0\n",
       "Category          0\n",
       "Sub-Category      0\n",
       "Product Name      0\n",
       "Sales             0\n",
       "dtype: int64"
      ]
     },
     "execution_count": 6,
     "metadata": {},
     "output_type": "execute_result"
    }
   ],
   "source": [
    "sales_data.isnull().sum()"
   ]
  },
  {
   "cell_type": "markdown",
   "id": "6c1518b7",
   "metadata": {
    "id": "TleNguEAMhlB",
    "papermill": {
     "duration": 0.023212,
     "end_time": "2024-11-12T16:57:22.275752",
     "exception": false,
     "start_time": "2024-11-12T16:57:22.252540",
     "status": "completed"
    },
    "tags": []
   },
   "source": [
    "There are 11 Missing values in the Postal Code column."
   ]
  },
  {
   "cell_type": "markdown",
   "id": "386f7df1",
   "metadata": {
    "id": "XoPvLWpXMrHU",
    "papermill": {
     "duration": 0.023363,
     "end_time": "2024-11-12T16:57:22.322858",
     "exception": false,
     "start_time": "2024-11-12T16:57:22.299495",
     "status": "completed"
    },
    "tags": []
   },
   "source": [
    "Replace/Fill Missing values in the Postal Code column with 0."
   ]
  },
  {
   "cell_type": "code",
   "execution_count": 7,
   "id": "7ce54530",
   "metadata": {
    "execution": {
     "iopub.execute_input": "2024-11-12T16:57:22.372602Z",
     "iopub.status.busy": "2024-11-12T16:57:22.371555Z",
     "iopub.status.idle": "2024-11-12T16:57:22.378445Z",
     "shell.execute_reply": "2024-11-12T16:57:22.377296Z"
    },
    "executionInfo": {
     "elapsed": 16,
     "status": "ok",
     "timestamp": 1730368884745,
     "user": {
      "displayName": "Muhamad Dafa Rizkiyanto",
      "userId": "16029394966179110856"
     },
     "user_tz": -420
    },
    "id": "aKntmJFfM6A5",
    "papermill": {
     "duration": 0.0343,
     "end_time": "2024-11-12T16:57:22.380979",
     "exception": false,
     "start_time": "2024-11-12T16:57:22.346679",
     "status": "completed"
    },
    "tags": []
   },
   "outputs": [],
   "source": [
    "sales_data['Postal Code'] = sales_data['Postal Code'].fillna(0)"
   ]
  },
  {
   "cell_type": "code",
   "execution_count": 8,
   "id": "95d00cb3",
   "metadata": {
    "execution": {
     "iopub.execute_input": "2024-11-12T16:57:22.430433Z",
     "iopub.status.busy": "2024-11-12T16:57:22.429944Z",
     "iopub.status.idle": "2024-11-12T16:57:22.456390Z",
     "shell.execute_reply": "2024-11-12T16:57:22.455224Z"
    },
    "executionInfo": {
     "elapsed": 15,
     "status": "ok",
     "timestamp": 1730368884745,
     "user": {
      "displayName": "Muhamad Dafa Rizkiyanto",
      "userId": "16029394966179110856"
     },
     "user_tz": -420
    },
    "id": "S1XfxsfEM_IR",
    "outputId": "0a66864d-974b-4a90-8fcd-ecc47bf22cde",
    "papermill": {
     "duration": 0.053935,
     "end_time": "2024-11-12T16:57:22.458886",
     "exception": false,
     "start_time": "2024-11-12T16:57:22.404951",
     "status": "completed"
    },
    "tags": []
   },
   "outputs": [
    {
     "data": {
      "text/plain": [
       "Row ID           0\n",
       "Order ID         0\n",
       "Order Date       0\n",
       "Ship Date        0\n",
       "Ship Mode        0\n",
       "Customer ID      0\n",
       "Customer Name    0\n",
       "Segment          0\n",
       "Country          0\n",
       "City             0\n",
       "State            0\n",
       "Postal Code      0\n",
       "Region           0\n",
       "Product ID       0\n",
       "Category         0\n",
       "Sub-Category     0\n",
       "Product Name     0\n",
       "Sales            0\n",
       "dtype: int64"
      ]
     },
     "execution_count": 8,
     "metadata": {},
     "output_type": "execute_result"
    }
   ],
   "source": [
    "sales_data.isnull().sum()"
   ]
  },
  {
   "cell_type": "markdown",
   "id": "4f735667",
   "metadata": {
    "id": "8tyC0bT9NNXW",
    "papermill": {
     "duration": 0.024174,
     "end_time": "2024-11-12T16:57:22.507072",
     "exception": false,
     "start_time": "2024-11-12T16:57:22.482898",
     "status": "completed"
    },
    "tags": []
   },
   "source": [
    "**Convert the data type from Float to Integer in the Postal Code column**"
   ]
  },
  {
   "cell_type": "code",
   "execution_count": 9,
   "id": "c78b05d9",
   "metadata": {
    "execution": {
     "iopub.execute_input": "2024-11-12T16:57:22.558051Z",
     "iopub.status.busy": "2024-11-12T16:57:22.557570Z",
     "iopub.status.idle": "2024-11-12T16:57:22.564238Z",
     "shell.execute_reply": "2024-11-12T16:57:22.563067Z"
    },
    "executionInfo": {
     "elapsed": 15,
     "status": "ok",
     "timestamp": 1730368884745,
     "user": {
      "displayName": "Muhamad Dafa Rizkiyanto",
      "userId": "16029394966179110856"
     },
     "user_tz": -420
    },
    "id": "NXJK-rR9NRnk",
    "papermill": {
     "duration": 0.034488,
     "end_time": "2024-11-12T16:57:22.566890",
     "exception": false,
     "start_time": "2024-11-12T16:57:22.532402",
     "status": "completed"
    },
    "tags": []
   },
   "outputs": [],
   "source": [
    "sales_data['Postal Code'] = sales_data['Postal Code'].astype(int)"
   ]
  },
  {
   "cell_type": "code",
   "execution_count": 10,
   "id": "6e53fab6",
   "metadata": {
    "execution": {
     "iopub.execute_input": "2024-11-12T16:57:22.617112Z",
     "iopub.status.busy": "2024-11-12T16:57:22.616629Z",
     "iopub.status.idle": "2024-11-12T16:57:22.645340Z",
     "shell.execute_reply": "2024-11-12T16:57:22.644319Z"
    },
    "executionInfo": {
     "elapsed": 14,
     "status": "ok",
     "timestamp": 1730368884745,
     "user": {
      "displayName": "Muhamad Dafa Rizkiyanto",
      "userId": "16029394966179110856"
     },
     "user_tz": -420
    },
    "id": "LopSZeBaNlWp",
    "outputId": "6dd7883a-030b-45ef-9336-fd439eef8ac5",
    "papermill": {
     "duration": 0.057156,
     "end_time": "2024-11-12T16:57:22.647938",
     "exception": false,
     "start_time": "2024-11-12T16:57:22.590782",
     "status": "completed"
    },
    "tags": []
   },
   "outputs": [
    {
     "name": "stdout",
     "output_type": "stream",
     "text": [
      "<class 'pandas.core.frame.DataFrame'>\n",
      "RangeIndex: 9800 entries, 0 to 9799\n",
      "Data columns (total 18 columns):\n",
      " #   Column         Non-Null Count  Dtype  \n",
      "---  ------         --------------  -----  \n",
      " 0   Row ID         9800 non-null   int64  \n",
      " 1   Order ID       9800 non-null   object \n",
      " 2   Order Date     9800 non-null   object \n",
      " 3   Ship Date      9800 non-null   object \n",
      " 4   Ship Mode      9800 non-null   object \n",
      " 5   Customer ID    9800 non-null   object \n",
      " 6   Customer Name  9800 non-null   object \n",
      " 7   Segment        9800 non-null   object \n",
      " 8   Country        9800 non-null   object \n",
      " 9   City           9800 non-null   object \n",
      " 10  State          9800 non-null   object \n",
      " 11  Postal Code    9800 non-null   int64  \n",
      " 12  Region         9800 non-null   object \n",
      " 13  Product ID     9800 non-null   object \n",
      " 14  Category       9800 non-null   object \n",
      " 15  Sub-Category   9800 non-null   object \n",
      " 16  Product Name   9800 non-null   object \n",
      " 17  Sales          9800 non-null   float64\n",
      "dtypes: float64(1), int64(2), object(15)\n",
      "memory usage: 1.3+ MB\n"
     ]
    }
   ],
   "source": [
    "sales_data.info()"
   ]
  },
  {
   "cell_type": "markdown",
   "id": "698a2aef",
   "metadata": {
    "id": "iZ2aCb83NmpU",
    "papermill": {
     "duration": 0.023953,
     "end_time": "2024-11-12T16:57:22.695833",
     "exception": false,
     "start_time": "2024-11-12T16:57:22.671880",
     "status": "completed"
    },
    "tags": []
   },
   "source": [
    "Successfully converted the data types of Postal Code and Sales to integer."
   ]
  },
  {
   "cell_type": "code",
   "execution_count": 11,
   "id": "5ab97912",
   "metadata": {
    "execution": {
     "iopub.execute_input": "2024-11-12T16:57:22.745776Z",
     "iopub.status.busy": "2024-11-12T16:57:22.744796Z",
     "iopub.status.idle": "2024-11-12T16:57:22.769817Z",
     "shell.execute_reply": "2024-11-12T16:57:22.768529Z"
    },
    "executionInfo": {
     "elapsed": 12,
     "status": "ok",
     "timestamp": 1730368884745,
     "user": {
      "displayName": "Muhamad Dafa Rizkiyanto",
      "userId": "16029394966179110856"
     },
     "user_tz": -420
    },
    "id": "6o9ilSMsNlV2",
    "outputId": "9775d429-6d74-41dc-f7aa-e5b85b015ee7",
    "papermill": {
     "duration": 0.052571,
     "end_time": "2024-11-12T16:57:22.772337",
     "exception": false,
     "start_time": "2024-11-12T16:57:22.719766",
     "status": "completed"
    },
    "tags": []
   },
   "outputs": [
    {
     "data": {
      "text/html": [
       "<div>\n",
       "<style scoped>\n",
       "    .dataframe tbody tr th:only-of-type {\n",
       "        vertical-align: middle;\n",
       "    }\n",
       "\n",
       "    .dataframe tbody tr th {\n",
       "        vertical-align: top;\n",
       "    }\n",
       "\n",
       "    .dataframe thead th {\n",
       "        text-align: right;\n",
       "    }\n",
       "</style>\n",
       "<table border=\"1\" class=\"dataframe\">\n",
       "  <thead>\n",
       "    <tr style=\"text-align: right;\">\n",
       "      <th></th>\n",
       "      <th>Row ID</th>\n",
       "      <th>Postal Code</th>\n",
       "      <th>Sales</th>\n",
       "    </tr>\n",
       "  </thead>\n",
       "  <tbody>\n",
       "    <tr>\n",
       "      <th>count</th>\n",
       "      <td>9800.000000</td>\n",
       "      <td>9800.000000</td>\n",
       "      <td>9800.000000</td>\n",
       "    </tr>\n",
       "    <tr>\n",
       "      <th>mean</th>\n",
       "      <td>4900.500000</td>\n",
       "      <td>55211.280918</td>\n",
       "      <td>230.769059</td>\n",
       "    </tr>\n",
       "    <tr>\n",
       "      <th>std</th>\n",
       "      <td>2829.160653</td>\n",
       "      <td>32076.677954</td>\n",
       "      <td>626.651875</td>\n",
       "    </tr>\n",
       "    <tr>\n",
       "      <th>min</th>\n",
       "      <td>1.000000</td>\n",
       "      <td>0.000000</td>\n",
       "      <td>0.444000</td>\n",
       "    </tr>\n",
       "    <tr>\n",
       "      <th>25%</th>\n",
       "      <td>2450.750000</td>\n",
       "      <td>23223.000000</td>\n",
       "      <td>17.248000</td>\n",
       "    </tr>\n",
       "    <tr>\n",
       "      <th>50%</th>\n",
       "      <td>4900.500000</td>\n",
       "      <td>57551.000000</td>\n",
       "      <td>54.490000</td>\n",
       "    </tr>\n",
       "    <tr>\n",
       "      <th>75%</th>\n",
       "      <td>7350.250000</td>\n",
       "      <td>90008.000000</td>\n",
       "      <td>210.605000</td>\n",
       "    </tr>\n",
       "    <tr>\n",
       "      <th>max</th>\n",
       "      <td>9800.000000</td>\n",
       "      <td>99301.000000</td>\n",
       "      <td>22638.480000</td>\n",
       "    </tr>\n",
       "  </tbody>\n",
       "</table>\n",
       "</div>"
      ],
      "text/plain": [
       "            Row ID   Postal Code         Sales\n",
       "count  9800.000000   9800.000000   9800.000000\n",
       "mean   4900.500000  55211.280918    230.769059\n",
       "std    2829.160653  32076.677954    626.651875\n",
       "min       1.000000      0.000000      0.444000\n",
       "25%    2450.750000  23223.000000     17.248000\n",
       "50%    4900.500000  57551.000000     54.490000\n",
       "75%    7350.250000  90008.000000    210.605000\n",
       "max    9800.000000  99301.000000  22638.480000"
      ]
     },
     "execution_count": 11,
     "metadata": {},
     "output_type": "execute_result"
    }
   ],
   "source": [
    "sales_data.describe()"
   ]
  },
  {
   "cell_type": "markdown",
   "id": "e43c8b59",
   "metadata": {
    "id": "BFNKA3uiOUjU",
    "papermill": {
     "duration": 0.023958,
     "end_time": "2024-11-12T16:57:22.820447",
     "exception": false,
     "start_time": "2024-11-12T16:57:22.796489",
     "status": "completed"
    },
    "tags": []
   },
   "source": [
    "# **Data Cleaning**"
   ]
  },
  {
   "cell_type": "markdown",
   "id": "a88f9b8d",
   "metadata": {
    "id": "S75PFsodOY0B",
    "papermill": {
     "duration": 0.025004,
     "end_time": "2024-11-12T16:57:22.869940",
     "exception": false,
     "start_time": "2024-11-12T16:57:22.844936",
     "status": "completed"
    },
    "tags": []
   },
   "source": [
    "# Checking is there any duplicated data"
   ]
  },
  {
   "cell_type": "code",
   "execution_count": 12,
   "id": "dc3abdc6",
   "metadata": {
    "execution": {
     "iopub.execute_input": "2024-11-12T16:57:22.920197Z",
     "iopub.status.busy": "2024-11-12T16:57:22.919715Z",
     "iopub.status.idle": "2024-11-12T16:57:22.949059Z",
     "shell.execute_reply": "2024-11-12T16:57:22.947805Z"
    },
    "executionInfo": {
     "elapsed": 11,
     "status": "ok",
     "timestamp": 1730368884745,
     "user": {
      "displayName": "Muhamad Dafa Rizkiyanto",
      "userId": "16029394966179110856"
     },
     "user_tz": -420
    },
    "id": "C1e2K-VcOrLV",
    "outputId": "7ff2cedd-5444-491f-92b4-7cc980d06718",
    "papermill": {
     "duration": 0.057569,
     "end_time": "2024-11-12T16:57:22.951723",
     "exception": false,
     "start_time": "2024-11-12T16:57:22.894154",
     "status": "completed"
    },
    "tags": []
   },
   "outputs": [
    {
     "data": {
      "text/plain": [
       "0       False\n",
       "1       False\n",
       "2       False\n",
       "3       False\n",
       "4       False\n",
       "        ...  \n",
       "9795    False\n",
       "9796    False\n",
       "9797    False\n",
       "9798    False\n",
       "9799    False\n",
       "Length: 9800, dtype: bool"
      ]
     },
     "execution_count": 12,
     "metadata": {},
     "output_type": "execute_result"
    }
   ],
   "source": [
    "sales_data.duplicated()"
   ]
  },
  {
   "cell_type": "code",
   "execution_count": 13,
   "id": "b13a9af4",
   "metadata": {
    "execution": {
     "iopub.execute_input": "2024-11-12T16:57:23.002362Z",
     "iopub.status.busy": "2024-11-12T16:57:23.001908Z",
     "iopub.status.idle": "2024-11-12T16:57:23.028822Z",
     "shell.execute_reply": "2024-11-12T16:57:23.027806Z"
    },
    "executionInfo": {
     "elapsed": 445,
     "status": "ok",
     "timestamp": 1730368885180,
     "user": {
      "displayName": "Muhamad Dafa Rizkiyanto",
      "userId": "16029394966179110856"
     },
     "user_tz": -420
    },
    "id": "H9seoE9uOXhI",
    "outputId": "0fbdddeb-9cf2-4537-93f8-2db249984f74",
    "papermill": {
     "duration": 0.055062,
     "end_time": "2024-11-12T16:57:23.031261",
     "exception": false,
     "start_time": "2024-11-12T16:57:22.976199",
     "status": "completed"
    },
    "tags": []
   },
   "outputs": [
    {
     "data": {
      "text/plain": [
       "0"
      ]
     },
     "execution_count": 13,
     "metadata": {},
     "output_type": "execute_result"
    }
   ],
   "source": [
    "sales_data.duplicated().sum()"
   ]
  },
  {
   "cell_type": "markdown",
   "id": "ad8797eb",
   "metadata": {
    "id": "bxoFrRjNOfl0",
    "papermill": {
     "duration": 0.024443,
     "end_time": "2024-11-12T16:57:23.080152",
     "exception": false,
     "start_time": "2024-11-12T16:57:23.055709",
     "status": "completed"
    },
    "tags": []
   },
   "source": [
    "There are no duplicates in this data."
   ]
  },
  {
   "cell_type": "markdown",
   "id": "bf47c5e2",
   "metadata": {
    "id": "15UXE8c2OyfN",
    "papermill": {
     "duration": 0.02408,
     "end_time": "2024-11-12T16:57:23.128615",
     "exception": false,
     "start_time": "2024-11-12T16:57:23.104535",
     "status": "completed"
    },
    "tags": []
   },
   "source": [
    "# **Customer Segmentation**"
   ]
  },
  {
   "cell_type": "code",
   "execution_count": 14,
   "id": "340fcc1a",
   "metadata": {
    "execution": {
     "iopub.execute_input": "2024-11-12T16:57:23.179345Z",
     "iopub.status.busy": "2024-11-12T16:57:23.178903Z",
     "iopub.status.idle": "2024-11-12T16:57:23.185751Z",
     "shell.execute_reply": "2024-11-12T16:57:23.184668Z"
    },
    "executionInfo": {
     "elapsed": 10,
     "status": "ok",
     "timestamp": 1730368885180,
     "user": {
      "displayName": "Muhamad Dafa Rizkiyanto",
      "userId": "16029394966179110856"
     },
     "user_tz": -420
    },
    "id": "ZONhD7SCO2hy",
    "outputId": "63bb9f3a-1137-4d4b-dae4-28b7a977fbd0",
    "papermill": {
     "duration": 0.035821,
     "end_time": "2024-11-12T16:57:23.188961",
     "exception": false,
     "start_time": "2024-11-12T16:57:23.153140",
     "status": "completed"
    },
    "tags": []
   },
   "outputs": [
    {
     "name": "stdout",
     "output_type": "stream",
     "text": [
      "['Consumer' 'Corporate' 'Home Office']\n"
     ]
    }
   ],
   "source": [
    "customer_type = sales_data['Segment'].unique()\n",
    "print(customer_type)"
   ]
  },
  {
   "cell_type": "code",
   "execution_count": 15,
   "id": "88d30471",
   "metadata": {
    "execution": {
     "iopub.execute_input": "2024-11-12T16:57:23.241073Z",
     "iopub.status.busy": "2024-11-12T16:57:23.240627Z",
     "iopub.status.idle": "2024-11-12T16:57:23.255010Z",
     "shell.execute_reply": "2024-11-12T16:57:23.253821Z"
    },
    "executionInfo": {
     "elapsed": 8,
     "status": "ok",
     "timestamp": 1730368885180,
     "user": {
      "displayName": "Muhamad Dafa Rizkiyanto",
      "userId": "16029394966179110856"
     },
     "user_tz": -420
    },
    "id": "fuWmPuq6Ph-Y",
    "outputId": "53141008-692f-441b-d0bf-2c7c73cfdefe",
    "papermill": {
     "duration": 0.042889,
     "end_time": "2024-11-12T16:57:23.257416",
     "exception": false,
     "start_time": "2024-11-12T16:57:23.214527",
     "status": "completed"
    },
    "tags": []
   },
   "outputs": [
    {
     "data": {
      "text/html": [
       "<div>\n",
       "<style scoped>\n",
       "    .dataframe tbody tr th:only-of-type {\n",
       "        vertical-align: middle;\n",
       "    }\n",
       "\n",
       "    .dataframe tbody tr th {\n",
       "        vertical-align: top;\n",
       "    }\n",
       "\n",
       "    .dataframe thead th {\n",
       "        text-align: right;\n",
       "    }\n",
       "</style>\n",
       "<table border=\"1\" class=\"dataframe\">\n",
       "  <thead>\n",
       "    <tr style=\"text-align: right;\">\n",
       "      <th></th>\n",
       "      <th>Tipe Customer</th>\n",
       "      <th>Jumlah</th>\n",
       "    </tr>\n",
       "  </thead>\n",
       "  <tbody>\n",
       "    <tr>\n",
       "      <th>0</th>\n",
       "      <td>Consumer</td>\n",
       "      <td>5101</td>\n",
       "    </tr>\n",
       "    <tr>\n",
       "      <th>1</th>\n",
       "      <td>Corporate</td>\n",
       "      <td>2953</td>\n",
       "    </tr>\n",
       "    <tr>\n",
       "      <th>2</th>\n",
       "      <td>Home Office</td>\n",
       "      <td>1746</td>\n",
       "    </tr>\n",
       "  </tbody>\n",
       "</table>\n",
       "</div>"
      ],
      "text/plain": [
       "  Tipe Customer  Jumlah\n",
       "0      Consumer    5101\n",
       "1     Corporate    2953\n",
       "2   Home Office    1746"
      ]
     },
     "execution_count": 15,
     "metadata": {},
     "output_type": "execute_result"
    }
   ],
   "source": [
    "customer_type = sales_data['Segment'].value_counts().reset_index()\n",
    "customer_type.columns = ['Tipe Customer', 'Jumlah']\n",
    "customer_type"
   ]
  },
  {
   "cell_type": "markdown",
   "id": "bee15631",
   "metadata": {
    "id": "Xmro5Ii5QQDN",
    "papermill": {
     "duration": 0.024509,
     "end_time": "2024-11-12T16:57:23.306782",
     "exception": false,
     "start_time": "2024-11-12T16:57:23.282273",
     "status": "completed"
    },
    "tags": []
   },
   "source": [
    "# Create a Pie Chart for customer type"
   ]
  },
  {
   "cell_type": "code",
   "execution_count": 16,
   "id": "38f6e635",
   "metadata": {
    "execution": {
     "iopub.execute_input": "2024-11-12T16:57:23.359051Z",
     "iopub.status.busy": "2024-11-12T16:57:23.358132Z",
     "iopub.status.idle": "2024-11-12T16:57:23.583135Z",
     "shell.execute_reply": "2024-11-12T16:57:23.581320Z"
    },
    "executionInfo": {
     "elapsed": 7,
     "status": "ok",
     "timestamp": 1730368885180,
     "user": {
      "displayName": "Muhamad Dafa Rizkiyanto",
      "userId": "16029394966179110856"
     },
     "user_tz": -420
    },
    "id": "6VQkUOQFQTG3",
    "outputId": "958020f3-bc2b-41ec-ccef-151ee720fb99",
    "papermill": {
     "duration": 0.257955,
     "end_time": "2024-11-12T16:57:23.589911",
     "exception": false,
     "start_time": "2024-11-12T16:57:23.331956",
     "status": "completed"
    },
    "tags": []
   },
   "outputs": [
    {
     "data": {
      "image/png": "[encoded data removed]",
      "text/plain": [
       "<Figure size 640x480 with 1 Axes>"
      ]
     },
     "metadata": {},
     "output_type": "display_data"
    }
   ],
   "source": [
    "plt.pie(customer_type['Jumlah'], labels = customer_type['Tipe Customer'], autopct = '%1.1f%%')\n",
    "plt.title('Distribusi Customers')\n",
    "plt.show()"
   ]
  },
  {
   "cell_type": "markdown",
   "id": "120d23e0",
   "metadata": {
    "id": "fVN3r6tbQqkH",
    "papermill": {
     "duration": 0.025014,
     "end_time": "2024-11-12T16:57:23.651129",
     "exception": false,
     "start_time": "2024-11-12T16:57:23.626115",
     "status": "completed"
    },
    "tags": []
   },
   "source": [
    "**customer and sales**"
   ]
  },
  {
   "cell_type": "code",
   "execution_count": 17,
   "id": "70dae2c9",
   "metadata": {
    "execution": {
     "iopub.execute_input": "2024-11-12T16:57:23.704229Z",
     "iopub.status.busy": "2024-11-12T16:57:23.703755Z",
     "iopub.status.idle": "2024-11-12T16:57:23.721265Z",
     "shell.execute_reply": "2024-11-12T16:57:23.719952Z"
    },
    "executionInfo": {
     "elapsed": 6,
     "status": "ok",
     "timestamp": 1730368885180,
     "user": {
      "displayName": "Muhamad Dafa Rizkiyanto",
      "userId": "16029394966179110856"
     },
     "user_tz": -420
    },
    "id": "JWOI9VuaQtJn",
    "outputId": "65f7af8e-ddad-4000-e6af-a6d037716bac",
    "papermill": {
     "duration": 0.047548,
     "end_time": "2024-11-12T16:57:23.723988",
     "exception": false,
     "start_time": "2024-11-12T16:57:23.676440",
     "status": "completed"
    },
    "tags": []
   },
   "outputs": [
    {
     "data": {
      "text/html": [
       "<div>\n",
       "<style scoped>\n",
       "    .dataframe tbody tr th:only-of-type {\n",
       "        vertical-align: middle;\n",
       "    }\n",
       "\n",
       "    .dataframe tbody tr th {\n",
       "        vertical-align: top;\n",
       "    }\n",
       "\n",
       "    .dataframe thead th {\n",
       "        text-align: right;\n",
       "    }\n",
       "</style>\n",
       "<table border=\"1\" class=\"dataframe\">\n",
       "  <thead>\n",
       "    <tr style=\"text-align: right;\">\n",
       "      <th></th>\n",
       "      <th>Tipe Customer</th>\n",
       "      <th>Total Sales</th>\n",
       "    </tr>\n",
       "  </thead>\n",
       "  <tbody>\n",
       "    <tr>\n",
       "      <th>0</th>\n",
       "      <td>Consumer</td>\n",
       "      <td>1.148061e+06</td>\n",
       "    </tr>\n",
       "    <tr>\n",
       "      <th>1</th>\n",
       "      <td>Corporate</td>\n",
       "      <td>6.884941e+05</td>\n",
       "    </tr>\n",
       "    <tr>\n",
       "      <th>2</th>\n",
       "      <td>Home Office</td>\n",
       "      <td>4.249822e+05</td>\n",
       "    </tr>\n",
       "  </tbody>\n",
       "</table>\n",
       "</div>"
      ],
      "text/plain": [
       "  Tipe Customer   Total Sales\n",
       "0      Consumer  1.148061e+06\n",
       "1     Corporate  6.884941e+05\n",
       "2   Home Office  4.249822e+05"
      ]
     },
     "execution_count": 17,
     "metadata": {},
     "output_type": "execute_result"
    }
   ],
   "source": [
    "sales_per_category = sales_data.groupby('Segment')['Sales'].sum().reset_index()\n",
    "sales_per_category.columns = [\"Tipe Customer\",\"Total Sales\"]\n",
    "sales_per_category"
   ]
  },
  {
   "cell_type": "code",
   "execution_count": 18,
   "id": "58f01e02",
   "metadata": {
    "execution": {
     "iopub.execute_input": "2024-11-12T16:57:23.777612Z",
     "iopub.status.busy": "2024-11-12T16:57:23.777212Z",
     "iopub.status.idle": "2024-11-12T16:57:23.988977Z",
     "shell.execute_reply": "2024-11-12T16:57:23.987793Z"
    },
    "executionInfo": {
     "elapsed": 447,
     "status": "ok",
     "timestamp": 1730368885621,
     "user": {
      "displayName": "Muhamad Dafa Rizkiyanto",
      "userId": "16029394966179110856"
     },
     "user_tz": -420
    },
    "id": "6TRdbgVnRExN",
    "outputId": "f035ddfb-a816-4707-eba4-be5b6c2b4e52",
    "papermill": {
     "duration": 0.241928,
     "end_time": "2024-11-12T16:57:23.991509",
     "exception": false,
     "start_time": "2024-11-12T16:57:23.749581",
     "status": "completed"
    },
    "tags": []
   },
   "outputs": [
    {
     "data": {
      "image/png": "[encoded data removed]",
      "text/plain": [
       "<Figure size 640x480 with 1 Axes>"
      ]
     },
     "metadata": {},
     "output_type": "display_data"
    }
   ],
   "source": [
    "plt.bar(sales_per_category['Tipe Customer'], sales_per_category['Total Sales'], color=\"red\")\n",
    "plt.xlabel('Tipe Customer')\n",
    "plt.ylabel('Total Sales')\n",
    "plt.title('Total Sales per Customer Type')\n",
    "plt.show()"
   ]
  },
  {
   "cell_type": "markdown",
   "id": "ceab317d",
   "metadata": {
    "id": "kEMnF-RtRg_n",
    "papermill": {
     "duration": 0.02589,
     "end_time": "2024-11-12T16:57:24.043410",
     "exception": false,
     "start_time": "2024-11-12T16:57:24.017520",
     "status": "completed"
    },
    "tags": []
   },
   "source": [
    "# **# Customer Loyalty**"
   ]
  },
  {
   "cell_type": "code",
   "execution_count": 19,
   "id": "7bb39228",
   "metadata": {
    "execution": {
     "iopub.execute_input": "2024-11-12T16:57:24.097760Z",
     "iopub.status.busy": "2024-11-12T16:57:24.097318Z",
     "iopub.status.idle": "2024-11-12T16:57:24.119323Z",
     "shell.execute_reply": "2024-11-12T16:57:24.118077Z"
    },
    "executionInfo": {
     "elapsed": 18,
     "status": "ok",
     "timestamp": 1730368885621,
     "user": {
      "displayName": "Muhamad Dafa Rizkiyanto",
      "userId": "16029394966179110856"
     },
     "user_tz": -420
    },
    "id": "ok_az1RiRjfH",
    "outputId": "6f3893b3-3f66-4167-fa94-fe9d28e68052",
    "papermill": {
     "duration": 0.052089,
     "end_time": "2024-11-12T16:57:24.121918",
     "exception": false,
     "start_time": "2024-11-12T16:57:24.069829",
     "status": "completed"
    },
    "tags": []
   },
   "outputs": [
    {
     "data": {
      "text/html": [
       "<div>\n",
       "<style scoped>\n",
       "    .dataframe tbody tr th:only-of-type {\n",
       "        vertical-align: middle;\n",
       "    }\n",
       "\n",
       "    .dataframe tbody tr th {\n",
       "        vertical-align: top;\n",
       "    }\n",
       "\n",
       "    .dataframe thead th {\n",
       "        text-align: right;\n",
       "    }\n",
       "</style>\n",
       "<table border=\"1\" class=\"dataframe\">\n",
       "  <thead>\n",
       "    <tr style=\"text-align: right;\">\n",
       "      <th></th>\n",
       "      <th>Row ID</th>\n",
       "      <th>Order ID</th>\n",
       "      <th>Order Date</th>\n",
       "      <th>Ship Date</th>\n",
       "      <th>Ship Mode</th>\n",
       "      <th>Customer ID</th>\n",
       "      <th>Customer Name</th>\n",
       "      <th>Segment</th>\n",
       "      <th>Country</th>\n",
       "      <th>City</th>\n",
       "      <th>State</th>\n",
       "      <th>Postal Code</th>\n",
       "      <th>Region</th>\n",
       "      <th>Product ID</th>\n",
       "      <th>Category</th>\n",
       "      <th>Sub-Category</th>\n",
       "      <th>Product Name</th>\n",
       "      <th>Sales</th>\n",
       "    </tr>\n",
       "  </thead>\n",
       "  <tbody>\n",
       "    <tr>\n",
       "      <th>0</th>\n",
       "      <td>1</td>\n",
       "      <td>CA-2017-152156</td>\n",
       "      <td>08/11/2017</td>\n",
       "      <td>11/11/2017</td>\n",
       "      <td>Second Class</td>\n",
       "      <td>CG-12520</td>\n",
       "      <td>Claire Gute</td>\n",
       "      <td>Consumer</td>\n",
       "      <td>United States</td>\n",
       "      <td>Henderson</td>\n",
       "      <td>Kentucky</td>\n",
       "      <td>42420</td>\n",
       "      <td>South</td>\n",
       "      <td>FUR-BO-10001798</td>\n",
       "      <td>Furniture</td>\n",
       "      <td>Bookcases</td>\n",
       "      <td>Bush Somerset Collection Bookcase</td>\n",
       "      <td>261.96</td>\n",
       "    </tr>\n",
       "    <tr>\n",
       "      <th>1</th>\n",
       "      <td>2</td>\n",
       "      <td>CA-2017-152156</td>\n",
       "      <td>08/11/2017</td>\n",
       "      <td>11/11/2017</td>\n",
       "      <td>Second Class</td>\n",
       "      <td>CG-12520</td>\n",
       "      <td>Claire Gute</td>\n",
       "      <td>Consumer</td>\n",
       "      <td>United States</td>\n",
       "      <td>Henderson</td>\n",
       "      <td>Kentucky</td>\n",
       "      <td>42420</td>\n",
       "      <td>South</td>\n",
       "      <td>FUR-CH-10000454</td>\n",
       "      <td>Furniture</td>\n",
       "      <td>Chairs</td>\n",
       "      <td>Hon Deluxe Fabric Upholstered Stacking Chairs,...</td>\n",
       "      <td>731.94</td>\n",
       "    </tr>\n",
       "    <tr>\n",
       "      <th>2</th>\n",
       "      <td>3</td>\n",
       "      <td>CA-2017-138688</td>\n",
       "      <td>12/06/2017</td>\n",
       "      <td>16/06/2017</td>\n",
       "      <td>Second Class</td>\n",
       "      <td>DV-13045</td>\n",
       "      <td>Darrin Van Huff</td>\n",
       "      <td>Corporate</td>\n",
       "      <td>United States</td>\n",
       "      <td>Los Angeles</td>\n",
       "      <td>California</td>\n",
       "      <td>90036</td>\n",
       "      <td>West</td>\n",
       "      <td>OFF-LA-10000240</td>\n",
       "      <td>Office Supplies</td>\n",
       "      <td>Labels</td>\n",
       "      <td>Self-Adhesive Address Labels for Typewriters b...</td>\n",
       "      <td>14.62</td>\n",
       "    </tr>\n",
       "  </tbody>\n",
       "</table>\n",
       "</div>"
      ],
      "text/plain": [
       "   Row ID        Order ID  Order Date   Ship Date     Ship Mode Customer ID  \\\n",
       "0       1  CA-2017-152156  08/11/2017  11/11/2017  Second Class    CG-12520   \n",
       "1       2  CA-2017-152156  08/11/2017  11/11/2017  Second Class    CG-12520   \n",
       "2       3  CA-2017-138688  12/06/2017  16/06/2017  Second Class    DV-13045   \n",
       "\n",
       "     Customer Name    Segment        Country         City       State  \\\n",
       "0      Claire Gute   Consumer  United States    Henderson    Kentucky   \n",
       "1      Claire Gute   Consumer  United States    Henderson    Kentucky   \n",
       "2  Darrin Van Huff  Corporate  United States  Los Angeles  California   \n",
       "\n",
       "   Postal Code Region       Product ID         Category Sub-Category  \\\n",
       "0        42420  South  FUR-BO-10001798        Furniture    Bookcases   \n",
       "1        42420  South  FUR-CH-10000454        Furniture       Chairs   \n",
       "2        90036   West  OFF-LA-10000240  Office Supplies       Labels   \n",
       "\n",
       "                                        Product Name   Sales  \n",
       "0                  Bush Somerset Collection Bookcase  261.96  \n",
       "1  Hon Deluxe Fabric Upholstered Stacking Chairs,...  731.94  \n",
       "2  Self-Adhesive Address Labels for Typewriters b...   14.62  "
      ]
     },
     "execution_count": 19,
     "metadata": {},
     "output_type": "execute_result"
    }
   ],
   "source": [
    "sales_data.head(3)"
   ]
  },
  {
   "cell_type": "code",
   "execution_count": 20,
   "id": "65083662",
   "metadata": {
    "execution": {
     "iopub.execute_input": "2024-11-12T16:57:24.176888Z",
     "iopub.status.busy": "2024-11-12T16:57:24.176426Z",
     "iopub.status.idle": "2024-11-12T16:57:24.199527Z",
     "shell.execute_reply": "2024-11-12T16:57:24.198065Z"
    },
    "executionInfo": {
     "elapsed": 17,
     "status": "ok",
     "timestamp": 1730368885621,
     "user": {
      "displayName": "Muhamad Dafa Rizkiyanto",
      "userId": "16029394966179110856"
     },
     "user_tz": -420
    },
    "id": "-q-97wUlRrDA",
    "outputId": "3df5aaf1-96c1-4d52-9df5-d93a9e481281",
    "papermill": {
     "duration": 0.05371,
     "end_time": "2024-11-12T16:57:24.202112",
     "exception": false,
     "start_time": "2024-11-12T16:57:24.148402",
     "status": "completed"
    },
    "tags": []
   },
   "outputs": [
    {
     "name": "stdout",
     "output_type": "stream",
     "text": [
      "    Customer ID       Customer Name    Segment  Order ID\n",
      "0      AA-10315          Alex Avila   Consumer        11\n",
      "1      AA-10375        Allen Armold   Consumer        15\n",
      "2      AA-10480        Andrew Allen   Consumer        12\n",
      "3      AA-10645       Anna Andreadi   Consumer        18\n",
      "4      AB-10015       Aaron Bergman   Consumer         6\n",
      "..          ...                 ...        ...       ...\n",
      "788    XP-21865        Xylona Preis   Consumer        28\n",
      "789    YC-21895      Yoseph Carroll  Corporate         8\n",
      "790    YS-21880       Yana Sorensen  Corporate        12\n",
      "791    ZC-21910    Zuschuss Carroll   Consumer        31\n",
      "792    ZD-21925  Zuschuss Donatelli   Consumer         9\n",
      "\n",
      "[793 rows x 4 columns]\n"
     ]
    }
   ],
   "source": [
    "customer_order_freq = sales_data.groupby(['Customer ID', 'Customer Name','Segment'])['Order ID'].count().reset_index()\n",
    "\n",
    "print(customer_order_freq)"
   ]
  },
  {
   "cell_type": "code",
   "execution_count": 21,
   "id": "d2026d3f",
   "metadata": {
    "execution": {
     "iopub.execute_input": "2024-11-12T16:57:24.257315Z",
     "iopub.status.busy": "2024-11-12T16:57:24.256845Z",
     "iopub.status.idle": "2024-11-12T16:57:24.271399Z",
     "shell.execute_reply": "2024-11-12T16:57:24.270099Z"
    },
    "executionInfo": {
     "elapsed": 15,
     "status": "ok",
     "timestamp": 1730368885621,
     "user": {
      "displayName": "Muhamad Dafa Rizkiyanto",
      "userId": "16029394966179110856"
     },
     "user_tz": -420
    },
    "id": "7zQG1TTuTu7j",
    "outputId": "b934241f-e180-49a2-b63e-d4f3e6c383d7",
    "papermill": {
     "duration": 0.045529,
     "end_time": "2024-11-12T16:57:24.274326",
     "exception": false,
     "start_time": "2024-11-12T16:57:24.228797",
     "status": "completed"
    },
    "tags": []
   },
   "outputs": [
    {
     "name": "stdout",
     "output_type": "stream",
     "text": [
      "  Customer ID        Customer Name Customer Type  Order Count\n",
      "0    WB-21850        William Brown      Consumer           35\n",
      "1    PP-18955           Paul Prost   Home Office           34\n",
      "2    MA-17560         Matt Abelman   Home Office           34\n",
      "3    JL-15835             John Lee      Consumer           33\n",
      "4    CK-12205  Chloris Kastensmidt      Consumer           32\n",
      "5    SV-20365          Seth Vernon      Consumer           32\n",
      "6    JD-15895     Jonathan Doherty     Corporate           32\n",
      "7    AP-10915       Arthur Prichep      Consumer           31\n",
      "8    ZC-21910     Zuschuss Carroll      Consumer           31\n",
      "9    EP-13915           Emily Phan      Consumer           31\n"
     ]
    }
   ],
   "source": [
    "# Identifying customers with repeat orders\n",
    "customer_order_freq = customer_order_freq[customer_order_freq['Order ID'] >= 1]  # Filter only customers with at least one Order ID\n",
    "\n",
    "# Sorting the DataFrame by the number of Order IDs in descending order\n",
    "customer_order_freq = customer_order_freq.sort_values(by='Order ID', ascending=False)  # Sort customers by highest order count\n",
    "\n",
    "# Renaming columns for clarity\n",
    "customer_order_freq.columns = ['Customer ID', 'Customer Name', 'Customer Type', 'Order Count']  # Provide more descriptive column names\n",
    "\n",
    "# Printing the top 10 entries of the filtered and sorted DataFrame\n",
    "print(customer_order_freq.head(10).reset_index(drop=True))  # Display the top 10 customers with reset index\n"
   ]
  },
  {
   "cell_type": "markdown",
   "id": "53b15ce9",
   "metadata": {
    "id": "EiRyBgFGTzUV",
    "papermill": {
     "duration": 0.026369,
     "end_time": "2024-11-12T16:57:24.327537",
     "exception": false,
     "start_time": "2024-11-12T16:57:24.301168",
     "status": "completed"
    },
    "tags": []
   },
   "source": [
    "# **TOP 10 SPENDER**"
   ]
  },
  {
   "cell_type": "code",
   "execution_count": 22,
   "id": "85927c9b",
   "metadata": {
    "execution": {
     "iopub.execute_input": "2024-11-12T16:57:24.382967Z",
     "iopub.status.busy": "2024-11-12T16:57:24.382466Z",
     "iopub.status.idle": "2024-11-12T16:57:24.400099Z",
     "shell.execute_reply": "2024-11-12T16:57:24.398812Z"
    },
    "executionInfo": {
     "elapsed": 14,
     "status": "ok",
     "timestamp": 1730368885622,
     "user": {
      "displayName": "Muhamad Dafa Rizkiyanto",
      "userId": "16029394966179110856"
     },
     "user_tz": -420
    },
    "id": "S9PcK2weWu1G",
    "papermill": {
     "duration": 0.04863,
     "end_time": "2024-11-12T16:57:24.402909",
     "exception": false,
     "start_time": "2024-11-12T16:57:24.354279",
     "status": "completed"
    },
    "tags": []
   },
   "outputs": [],
   "source": [
    "top10_spender = sales_data.groupby([\"Customer ID\", \"Customer Name\"])['Sales'].sum().reset_index()\n",
    "top10_spender = top10_spender.sort_values(by='Sales', ascending=False)\n",
    "top10_spender.columns = ['Customer ID', 'Customer Name', 'Total Sales']\n"
   ]
  },
  {
   "cell_type": "code",
   "execution_count": 23,
   "id": "97f49934",
   "metadata": {
    "execution": {
     "iopub.execute_input": "2024-11-12T16:57:24.458224Z",
     "iopub.status.busy": "2024-11-12T16:57:24.457752Z",
     "iopub.status.idle": "2024-11-12T16:57:24.471995Z",
     "shell.execute_reply": "2024-11-12T16:57:24.470713Z"
    },
    "executionInfo": {
     "elapsed": 13,
     "status": "ok",
     "timestamp": 1730368885622,
     "user": {
      "displayName": "Muhamad Dafa Rizkiyanto",
      "userId": "16029394966179110856"
     },
     "user_tz": -420
    },
    "id": "XCiA2dfhWu0I",
    "outputId": "887d49be-34c1-4ca8-f4f5-ea567c5be06d",
    "papermill": {
     "duration": 0.044973,
     "end_time": "2024-11-12T16:57:24.474582",
     "exception": false,
     "start_time": "2024-11-12T16:57:24.429609",
     "status": "completed"
    },
    "tags": []
   },
   "outputs": [
    {
     "data": {
      "text/html": [
       "<div>\n",
       "<style scoped>\n",
       "    .dataframe tbody tr th:only-of-type {\n",
       "        vertical-align: middle;\n",
       "    }\n",
       "\n",
       "    .dataframe tbody tr th {\n",
       "        vertical-align: top;\n",
       "    }\n",
       "\n",
       "    .dataframe thead th {\n",
       "        text-align: right;\n",
       "    }\n",
       "</style>\n",
       "<table border=\"1\" class=\"dataframe\">\n",
       "  <thead>\n",
       "    <tr style=\"text-align: right;\">\n",
       "      <th></th>\n",
       "      <th>Customer ID</th>\n",
       "      <th>Customer Name</th>\n",
       "      <th>Total Sales</th>\n",
       "    </tr>\n",
       "  </thead>\n",
       "  <tbody>\n",
       "    <tr>\n",
       "      <th>0</th>\n",
       "      <td>SM-20320</td>\n",
       "      <td>Sean Miller</td>\n",
       "      <td>25043.050</td>\n",
       "    </tr>\n",
       "    <tr>\n",
       "      <th>1</th>\n",
       "      <td>TC-20980</td>\n",
       "      <td>Tamara Chand</td>\n",
       "      <td>19052.218</td>\n",
       "    </tr>\n",
       "    <tr>\n",
       "      <th>2</th>\n",
       "      <td>RB-19360</td>\n",
       "      <td>Raymond Buch</td>\n",
       "      <td>15117.339</td>\n",
       "    </tr>\n",
       "    <tr>\n",
       "      <th>3</th>\n",
       "      <td>TA-21385</td>\n",
       "      <td>Tom Ashbrook</td>\n",
       "      <td>14595.620</td>\n",
       "    </tr>\n",
       "    <tr>\n",
       "      <th>4</th>\n",
       "      <td>AB-10105</td>\n",
       "      <td>Adrian Barton</td>\n",
       "      <td>14473.571</td>\n",
       "    </tr>\n",
       "    <tr>\n",
       "      <th>5</th>\n",
       "      <td>KL-16645</td>\n",
       "      <td>Ken Lonsdale</td>\n",
       "      <td>14175.229</td>\n",
       "    </tr>\n",
       "    <tr>\n",
       "      <th>6</th>\n",
       "      <td>SC-20095</td>\n",
       "      <td>Sanjit Chand</td>\n",
       "      <td>14142.334</td>\n",
       "    </tr>\n",
       "    <tr>\n",
       "      <th>7</th>\n",
       "      <td>HL-15040</td>\n",
       "      <td>Hunter Lopez</td>\n",
       "      <td>12873.298</td>\n",
       "    </tr>\n",
       "    <tr>\n",
       "      <th>8</th>\n",
       "      <td>SE-20110</td>\n",
       "      <td>Sanjit Engle</td>\n",
       "      <td>12209.438</td>\n",
       "    </tr>\n",
       "    <tr>\n",
       "      <th>9</th>\n",
       "      <td>CC-12370</td>\n",
       "      <td>Christopher Conant</td>\n",
       "      <td>12129.072</td>\n",
       "    </tr>\n",
       "  </tbody>\n",
       "</table>\n",
       "</div>"
      ],
      "text/plain": [
       "  Customer ID       Customer Name  Total Sales\n",
       "0    SM-20320         Sean Miller    25043.050\n",
       "1    TC-20980        Tamara Chand    19052.218\n",
       "2    RB-19360        Raymond Buch    15117.339\n",
       "3    TA-21385        Tom Ashbrook    14595.620\n",
       "4    AB-10105       Adrian Barton    14473.571\n",
       "5    KL-16645        Ken Lonsdale    14175.229\n",
       "6    SC-20095        Sanjit Chand    14142.334\n",
       "7    HL-15040        Hunter Lopez    12873.298\n",
       "8    SE-20110        Sanjit Engle    12209.438\n",
       "9    CC-12370  Christopher Conant    12129.072"
      ]
     },
     "execution_count": 23,
     "metadata": {},
     "output_type": "execute_result"
    }
   ],
   "source": [
    "top10_spender = top10_spender.head(10).reset_index(drop=True)\n",
    "top10_spender"
   ]
  },
  {
   "cell_type": "markdown",
   "id": "e08404c8",
   "metadata": {
    "id": "daAl-QLhUv4C",
    "papermill": {
     "duration": 0.027135,
     "end_time": "2024-11-12T16:57:24.528902",
     "exception": false,
     "start_time": "2024-11-12T16:57:24.501767",
     "status": "completed"
    },
    "tags": []
   },
   "source": [
    "# **Top Sales by Product Category**"
   ]
  },
  {
   "cell_type": "code",
   "execution_count": 24,
   "id": "c6067f40",
   "metadata": {
    "execution": {
     "iopub.execute_input": "2024-11-12T16:57:24.586837Z",
     "iopub.status.busy": "2024-11-12T16:57:24.586354Z",
     "iopub.status.idle": "2024-11-12T16:57:24.601201Z",
     "shell.execute_reply": "2024-11-12T16:57:24.599872Z"
    },
    "executionInfo": {
     "elapsed": 12,
     "status": "ok",
     "timestamp": 1730368885622,
     "user": {
      "displayName": "Muhamad Dafa Rizkiyanto",
      "userId": "16029394966179110856"
     },
     "user_tz": -420
    },
    "id": "fmWt-SIsU9rd",
    "outputId": "787833d4-7101-43b2-cd1a-30c0f3239288",
    "papermill": {
     "duration": 0.046149,
     "end_time": "2024-11-12T16:57:24.603755",
     "exception": false,
     "start_time": "2024-11-12T16:57:24.557606",
     "status": "completed"
    },
    "tags": []
   },
   "outputs": [
    {
     "data": {
      "text/html": [
       "<div>\n",
       "<style scoped>\n",
       "    .dataframe tbody tr th:only-of-type {\n",
       "        vertical-align: middle;\n",
       "    }\n",
       "\n",
       "    .dataframe tbody tr th {\n",
       "        vertical-align: top;\n",
       "    }\n",
       "\n",
       "    .dataframe thead th {\n",
       "        text-align: right;\n",
       "    }\n",
       "</style>\n",
       "<table border=\"1\" class=\"dataframe\">\n",
       "  <thead>\n",
       "    <tr style=\"text-align: right;\">\n",
       "      <th></th>\n",
       "      <th>Product Category</th>\n",
       "      <th>Count</th>\n",
       "    </tr>\n",
       "  </thead>\n",
       "  <tbody>\n",
       "    <tr>\n",
       "      <th>0</th>\n",
       "      <td>Office Supplies</td>\n",
       "      <td>5909</td>\n",
       "    </tr>\n",
       "    <tr>\n",
       "      <th>1</th>\n",
       "      <td>Furniture</td>\n",
       "      <td>2078</td>\n",
       "    </tr>\n",
       "    <tr>\n",
       "      <th>2</th>\n",
       "      <td>Technology</td>\n",
       "      <td>1813</td>\n",
       "    </tr>\n",
       "  </tbody>\n",
       "</table>\n",
       "</div>"
      ],
      "text/plain": [
       "  Product Category  Count\n",
       "0  Office Supplies   5909\n",
       "1        Furniture   2078\n",
       "2       Technology   1813"
      ]
     },
     "execution_count": 24,
     "metadata": {},
     "output_type": "execute_result"
    }
   ],
   "source": [
    "product_category = sales_data['Category'].value_counts().reset_index()\n",
    "product_category.columns = ['Product Category', 'Count']\n",
    "product_category\n"
   ]
  },
  {
   "cell_type": "code",
   "execution_count": 25,
   "id": "1b8a1bf9",
   "metadata": {
    "execution": {
     "iopub.execute_input": "2024-11-12T16:57:24.661008Z",
     "iopub.status.busy": "2024-11-12T16:57:24.659888Z",
     "iopub.status.idle": "2024-11-12T16:57:24.816119Z",
     "shell.execute_reply": "2024-11-12T16:57:24.814617Z"
    },
    "executionInfo": {
     "elapsed": 489,
     "status": "ok",
     "timestamp": 1730368886100,
     "user": {
      "displayName": "Muhamad Dafa Rizkiyanto",
      "userId": "16029394966179110856"
     },
     "user_tz": -420
    },
    "id": "z0IjB9CDVam4",
    "outputId": "402e7d01-fa99-4111-b14c-94f215eb906c",
    "papermill": {
     "duration": 0.187825,
     "end_time": "2024-11-12T16:57:24.818873",
     "exception": false,
     "start_time": "2024-11-12T16:57:24.631048",
     "status": "completed"
    },
    "tags": []
   },
   "outputs": [
    {
     "data": {
      "image/png": "[encoded data removed]",
      "text/plain": [
       "<Figure size 640x480 with 1 Axes>"
      ]
     },
     "metadata": {},
     "output_type": "display_data"
    }
   ],
   "source": [
    "plt.pie(product_category['Count'], labels=product_category['Product Category'], autopct='%1.1f%%')\n",
    "plt.title('Product Category Distribution')\n",
    "plt.show()"
   ]
  },
  {
   "cell_type": "code",
   "execution_count": 26,
   "id": "d3282772",
   "metadata": {
    "execution": {
     "iopub.execute_input": "2024-11-12T16:57:24.878070Z",
     "iopub.status.busy": "2024-11-12T16:57:24.877617Z",
     "iopub.status.idle": "2024-11-12T16:57:24.894007Z",
     "shell.execute_reply": "2024-11-12T16:57:24.892626Z"
    },
    "executionInfo": {
     "elapsed": 15,
     "status": "ok",
     "timestamp": 1730368886101,
     "user": {
      "displayName": "Muhamad Dafa Rizkiyanto",
      "userId": "16029394966179110856"
     },
     "user_tz": -420
    },
    "id": "YdvhyYHxWWww",
    "outputId": "19e995dd-6e26-4886-d2c4-0fdd1d176f65",
    "papermill": {
     "duration": 0.048861,
     "end_time": "2024-11-12T16:57:24.896674",
     "exception": false,
     "start_time": "2024-11-12T16:57:24.847813",
     "status": "completed"
    },
    "tags": []
   },
   "outputs": [
    {
     "data": {
      "text/html": [
       "<div>\n",
       "<style scoped>\n",
       "    .dataframe tbody tr th:only-of-type {\n",
       "        vertical-align: middle;\n",
       "    }\n",
       "\n",
       "    .dataframe tbody tr th {\n",
       "        vertical-align: top;\n",
       "    }\n",
       "\n",
       "    .dataframe thead th {\n",
       "        text-align: right;\n",
       "    }\n",
       "</style>\n",
       "<table border=\"1\" class=\"dataframe\">\n",
       "  <thead>\n",
       "    <tr style=\"text-align: right;\">\n",
       "      <th></th>\n",
       "      <th>Category</th>\n",
       "      <th>Sales</th>\n",
       "    </tr>\n",
       "  </thead>\n",
       "  <tbody>\n",
       "    <tr>\n",
       "      <th>2</th>\n",
       "      <td>Technology</td>\n",
       "      <td>827455.8730</td>\n",
       "    </tr>\n",
       "    <tr>\n",
       "      <th>0</th>\n",
       "      <td>Furniture</td>\n",
       "      <td>728658.5757</td>\n",
       "    </tr>\n",
       "    <tr>\n",
       "      <th>1</th>\n",
       "      <td>Office Supplies</td>\n",
       "      <td>705422.3340</td>\n",
       "    </tr>\n",
       "  </tbody>\n",
       "</table>\n",
       "</div>"
      ],
      "text/plain": [
       "          Category        Sales\n",
       "2       Technology  827455.8730\n",
       "0        Furniture  728658.5757\n",
       "1  Office Supplies  705422.3340"
      ]
     },
     "execution_count": 26,
     "metadata": {},
     "output_type": "execute_result"
    }
   ],
   "source": [
    "category_by_sales = sales_data.groupby(['Category'])['Sales'].sum().reset_index()\n",
    "category_by_sales = category_by_sales.sort_values(by='Sales', ascending=False)\n",
    "category_by_sales"
   ]
  },
  {
   "cell_type": "code",
   "execution_count": 27,
   "id": "70f25f57",
   "metadata": {
    "execution": {
     "iopub.execute_input": "2024-11-12T16:57:24.955243Z",
     "iopub.status.busy": "2024-11-12T16:57:24.954783Z",
     "iopub.status.idle": "2024-11-12T16:57:25.187420Z",
     "shell.execute_reply": "2024-11-12T16:57:25.186002Z"
    },
    "executionInfo": {
     "elapsed": 14,
     "status": "ok",
     "timestamp": 1730368886101,
     "user": {
      "displayName": "Muhamad Dafa Rizkiyanto",
      "userId": "16029394966179110856"
     },
     "user_tz": -420
    },
    "id": "lA-OMUYBWelI",
    "outputId": "0e4c588d-be0d-4ee8-beab-b62e65593660",
    "papermill": {
     "duration": 0.265455,
     "end_time": "2024-11-12T16:57:25.190215",
     "exception": false,
     "start_time": "2024-11-12T16:57:24.924760",
     "status": "completed"
    },
    "tags": []
   },
   "outputs": [
    {
     "data": {
      "image/png": "[encoded data removed]",
      "text/plain": [
       "<Figure size 640x480 with 1 Axes>"
      ]
     },
     "metadata": {},
     "output_type": "display_data"
    }
   ],
   "source": [
    "plt.bar(category_by_sales['Category'], category_by_sales['Sales'], color=\"green\")\n",
    "plt.xlabel('Product Category')\n",
    "plt.ylabel('Total Sales')\n",
    "plt.title('Total Sales per Category')\n",
    "plt.show()"
   ]
  },
  {
   "cell_type": "markdown",
   "id": "2b8e629e",
   "metadata": {
    "id": "MwnBP9sNZnqp",
    "papermill": {
     "duration": 0.02832,
     "end_time": "2024-11-12T16:57:25.247366",
     "exception": false,
     "start_time": "2024-11-12T16:57:25.219046",
     "status": "completed"
    },
    "tags": []
   },
   "source": [
    "# **Sales by Sub-Category**"
   ]
  },
  {
   "cell_type": "code",
   "execution_count": 28,
   "id": "4a46cfdd",
   "metadata": {
    "execution": {
     "iopub.execute_input": "2024-11-12T16:57:25.306005Z",
     "iopub.status.busy": "2024-11-12T16:57:25.305595Z",
     "iopub.status.idle": "2024-11-12T16:57:25.322589Z",
     "shell.execute_reply": "2024-11-12T16:57:25.321439Z"
    },
    "executionInfo": {
     "elapsed": 13,
     "status": "ok",
     "timestamp": 1730368886101,
     "user": {
      "displayName": "Muhamad Dafa Rizkiyanto",
      "userId": "16029394966179110856"
     },
     "user_tz": -420
    },
    "id": "Xao4AgdXZ37U",
    "outputId": "1ff2e5bb-eeca-4fa9-8a39-ac889903e6d5",
    "papermill": {
     "duration": 0.049511,
     "end_time": "2024-11-12T16:57:25.325217",
     "exception": false,
     "start_time": "2024-11-12T16:57:25.275706",
     "status": "completed"
    },
    "tags": []
   },
   "outputs": [
    {
     "data": {
      "text/html": [
       "<div>\n",
       "<style scoped>\n",
       "    .dataframe tbody tr th:only-of-type {\n",
       "        vertical-align: middle;\n",
       "    }\n",
       "\n",
       "    .dataframe tbody tr th {\n",
       "        vertical-align: top;\n",
       "    }\n",
       "\n",
       "    .dataframe thead th {\n",
       "        text-align: right;\n",
       "    }\n",
       "</style>\n",
       "<table border=\"1\" class=\"dataframe\">\n",
       "  <thead>\n",
       "    <tr style=\"text-align: right;\">\n",
       "      <th></th>\n",
       "      <th>Category</th>\n",
       "      <th>Sub-Category</th>\n",
       "    </tr>\n",
       "  </thead>\n",
       "  <tbody>\n",
       "    <tr>\n",
       "      <th>1</th>\n",
       "      <td>Office Supplies</td>\n",
       "      <td>9</td>\n",
       "    </tr>\n",
       "    <tr>\n",
       "      <th>0</th>\n",
       "      <td>Furniture</td>\n",
       "      <td>4</td>\n",
       "    </tr>\n",
       "    <tr>\n",
       "      <th>2</th>\n",
       "      <td>Technology</td>\n",
       "      <td>4</td>\n",
       "    </tr>\n",
       "  </tbody>\n",
       "</table>\n",
       "</div>"
      ],
      "text/plain": [
       "          Category  Sub-Category\n",
       "1  Office Supplies             9\n",
       "0        Furniture             4\n",
       "2       Technology             4"
      ]
     },
     "execution_count": 28,
     "metadata": {},
     "output_type": "execute_result"
    }
   ],
   "source": [
    "subcategory = sales_data.groupby(\"Category\")[\"Sub-Category\"].nunique().reset_index()\n",
    "subcategory = subcategory.sort_values(by=\"Sub-Category\", ascending=False)\n",
    "subcategory\n"
   ]
  },
  {
   "cell_type": "code",
   "execution_count": 29,
   "id": "4271952f",
   "metadata": {
    "execution": {
     "iopub.execute_input": "2024-11-12T16:57:25.384706Z",
     "iopub.status.busy": "2024-11-12T16:57:25.384272Z",
     "iopub.status.idle": "2024-11-12T16:57:25.400290Z",
     "shell.execute_reply": "2024-11-12T16:57:25.399127Z"
    },
    "executionInfo": {
     "elapsed": 12,
     "status": "ok",
     "timestamp": 1730368886101,
     "user": {
      "displayName": "Muhamad Dafa Rizkiyanto",
      "userId": "16029394966179110856"
     },
     "user_tz": -420
    },
    "id": "rUNuQmd9Zpxj",
    "outputId": "35861d2d-9a5d-4deb-fccc-3655cbc7caac",
    "papermill": {
     "duration": 0.048885,
     "end_time": "2024-11-12T16:57:25.402942",
     "exception": false,
     "start_time": "2024-11-12T16:57:25.354057",
     "status": "completed"
    },
    "tags": []
   },
   "outputs": [
    {
     "data": {
      "text/html": [
       "<div>\n",
       "<style scoped>\n",
       "    .dataframe tbody tr th:only-of-type {\n",
       "        vertical-align: middle;\n",
       "    }\n",
       "\n",
       "    .dataframe tbody tr th {\n",
       "        vertical-align: top;\n",
       "    }\n",
       "\n",
       "    .dataframe thead th {\n",
       "        text-align: right;\n",
       "    }\n",
       "</style>\n",
       "<table border=\"1\" class=\"dataframe\">\n",
       "  <thead>\n",
       "    <tr style=\"text-align: right;\">\n",
       "      <th></th>\n",
       "      <th>Sub-Category</th>\n",
       "      <th>Count</th>\n",
       "    </tr>\n",
       "  </thead>\n",
       "  <tbody>\n",
       "    <tr>\n",
       "      <th>0</th>\n",
       "      <td>Binders</td>\n",
       "      <td>1492</td>\n",
       "    </tr>\n",
       "    <tr>\n",
       "      <th>1</th>\n",
       "      <td>Paper</td>\n",
       "      <td>1338</td>\n",
       "    </tr>\n",
       "    <tr>\n",
       "      <th>2</th>\n",
       "      <td>Furnishings</td>\n",
       "      <td>931</td>\n",
       "    </tr>\n",
       "    <tr>\n",
       "      <th>3</th>\n",
       "      <td>Phones</td>\n",
       "      <td>876</td>\n",
       "    </tr>\n",
       "    <tr>\n",
       "      <th>4</th>\n",
       "      <td>Storage</td>\n",
       "      <td>832</td>\n",
       "    </tr>\n",
       "    <tr>\n",
       "      <th>5</th>\n",
       "      <td>Art</td>\n",
       "      <td>785</td>\n",
       "    </tr>\n",
       "    <tr>\n",
       "      <th>6</th>\n",
       "      <td>Accessories</td>\n",
       "      <td>756</td>\n",
       "    </tr>\n",
       "    <tr>\n",
       "      <th>7</th>\n",
       "      <td>Chairs</td>\n",
       "      <td>607</td>\n",
       "    </tr>\n",
       "    <tr>\n",
       "      <th>8</th>\n",
       "      <td>Appliances</td>\n",
       "      <td>459</td>\n",
       "    </tr>\n",
       "    <tr>\n",
       "      <th>9</th>\n",
       "      <td>Labels</td>\n",
       "      <td>357</td>\n",
       "    </tr>\n",
       "    <tr>\n",
       "      <th>10</th>\n",
       "      <td>Tables</td>\n",
       "      <td>314</td>\n",
       "    </tr>\n",
       "    <tr>\n",
       "      <th>11</th>\n",
       "      <td>Envelopes</td>\n",
       "      <td>248</td>\n",
       "    </tr>\n",
       "    <tr>\n",
       "      <th>12</th>\n",
       "      <td>Bookcases</td>\n",
       "      <td>226</td>\n",
       "    </tr>\n",
       "    <tr>\n",
       "      <th>13</th>\n",
       "      <td>Fasteners</td>\n",
       "      <td>214</td>\n",
       "    </tr>\n",
       "    <tr>\n",
       "      <th>14</th>\n",
       "      <td>Supplies</td>\n",
       "      <td>184</td>\n",
       "    </tr>\n",
       "    <tr>\n",
       "      <th>15</th>\n",
       "      <td>Machines</td>\n",
       "      <td>115</td>\n",
       "    </tr>\n",
       "    <tr>\n",
       "      <th>16</th>\n",
       "      <td>Copiers</td>\n",
       "      <td>66</td>\n",
       "    </tr>\n",
       "  </tbody>\n",
       "</table>\n",
       "</div>"
      ],
      "text/plain": [
       "   Sub-Category  Count\n",
       "0       Binders   1492\n",
       "1         Paper   1338\n",
       "2   Furnishings    931\n",
       "3        Phones    876\n",
       "4       Storage    832\n",
       "5           Art    785\n",
       "6   Accessories    756\n",
       "7        Chairs    607\n",
       "8    Appliances    459\n",
       "9        Labels    357\n",
       "10       Tables    314\n",
       "11    Envelopes    248\n",
       "12    Bookcases    226\n",
       "13    Fasteners    214\n",
       "14     Supplies    184\n",
       "15     Machines    115\n",
       "16      Copiers     66"
      ]
     },
     "execution_count": 29,
     "metadata": {},
     "output_type": "execute_result"
    }
   ],
   "source": [
    "sales_subcategory = sales_data['Sub-Category'].value_counts().reset_index()\n",
    "sales_subcategory.columns = ['Sub-Category', 'Count']\n",
    "sales_subcategory"
   ]
  },
  {
   "cell_type": "code",
   "execution_count": 30,
   "id": "f8c16381",
   "metadata": {
    "execution": {
     "iopub.execute_input": "2024-11-12T16:57:25.462726Z",
     "iopub.status.busy": "2024-11-12T16:57:25.462265Z",
     "iopub.status.idle": "2024-11-12T16:57:25.480008Z",
     "shell.execute_reply": "2024-11-12T16:57:25.478539Z"
    },
    "executionInfo": {
     "elapsed": 11,
     "status": "ok",
     "timestamp": 1730368886101,
     "user": {
      "displayName": "Muhamad Dafa Rizkiyanto",
      "userId": "16029394966179110856"
     },
     "user_tz": -420
    },
    "id": "T8NPn6Y2bUtT",
    "outputId": "3df58b55-5d63-448c-da6e-56e4fa051d26",
    "papermill": {
     "duration": 0.050692,
     "end_time": "2024-11-12T16:57:25.482630",
     "exception": false,
     "start_time": "2024-11-12T16:57:25.431938",
     "status": "completed"
    },
    "tags": []
   },
   "outputs": [
    {
     "data": {
      "text/html": [
       "<div>\n",
       "<style scoped>\n",
       "    .dataframe tbody tr th:only-of-type {\n",
       "        vertical-align: middle;\n",
       "    }\n",
       "\n",
       "    .dataframe tbody tr th {\n",
       "        vertical-align: top;\n",
       "    }\n",
       "\n",
       "    .dataframe thead th {\n",
       "        text-align: right;\n",
       "    }\n",
       "</style>\n",
       "<table border=\"1\" class=\"dataframe\">\n",
       "  <thead>\n",
       "    <tr style=\"text-align: right;\">\n",
       "      <th></th>\n",
       "      <th>Sub-Category</th>\n",
       "      <th>Sales</th>\n",
       "    </tr>\n",
       "  </thead>\n",
       "  <tbody>\n",
       "    <tr>\n",
       "      <th>8</th>\n",
       "      <td>Fasteners</td>\n",
       "      <td>3001.9600</td>\n",
       "    </tr>\n",
       "    <tr>\n",
       "      <th>10</th>\n",
       "      <td>Labels</td>\n",
       "      <td>12347.7260</td>\n",
       "    </tr>\n",
       "    <tr>\n",
       "      <th>7</th>\n",
       "      <td>Envelopes</td>\n",
       "      <td>16128.0460</td>\n",
       "    </tr>\n",
       "    <tr>\n",
       "      <th>2</th>\n",
       "      <td>Art</td>\n",
       "      <td>26705.4100</td>\n",
       "    </tr>\n",
       "    <tr>\n",
       "      <th>15</th>\n",
       "      <td>Supplies</td>\n",
       "      <td>46420.3080</td>\n",
       "    </tr>\n",
       "    <tr>\n",
       "      <th>12</th>\n",
       "      <td>Paper</td>\n",
       "      <td>76828.3040</td>\n",
       "    </tr>\n",
       "    <tr>\n",
       "      <th>9</th>\n",
       "      <td>Furnishings</td>\n",
       "      <td>89212.0180</td>\n",
       "    </tr>\n",
       "    <tr>\n",
       "      <th>1</th>\n",
       "      <td>Appliances</td>\n",
       "      <td>104618.4030</td>\n",
       "    </tr>\n",
       "    <tr>\n",
       "      <th>4</th>\n",
       "      <td>Bookcases</td>\n",
       "      <td>113813.1987</td>\n",
       "    </tr>\n",
       "    <tr>\n",
       "      <th>6</th>\n",
       "      <td>Copiers</td>\n",
       "      <td>146248.0940</td>\n",
       "    </tr>\n",
       "    <tr>\n",
       "      <th>0</th>\n",
       "      <td>Accessories</td>\n",
       "      <td>164186.7000</td>\n",
       "    </tr>\n",
       "    <tr>\n",
       "      <th>11</th>\n",
       "      <td>Machines</td>\n",
       "      <td>189238.6310</td>\n",
       "    </tr>\n",
       "    <tr>\n",
       "      <th>3</th>\n",
       "      <td>Binders</td>\n",
       "      <td>200028.7850</td>\n",
       "    </tr>\n",
       "    <tr>\n",
       "      <th>16</th>\n",
       "      <td>Tables</td>\n",
       "      <td>202810.6280</td>\n",
       "    </tr>\n",
       "    <tr>\n",
       "      <th>14</th>\n",
       "      <td>Storage</td>\n",
       "      <td>219343.3920</td>\n",
       "    </tr>\n",
       "    <tr>\n",
       "      <th>5</th>\n",
       "      <td>Chairs</td>\n",
       "      <td>322822.7310</td>\n",
       "    </tr>\n",
       "    <tr>\n",
       "      <th>13</th>\n",
       "      <td>Phones</td>\n",
       "      <td>327782.4480</td>\n",
       "    </tr>\n",
       "  </tbody>\n",
       "</table>\n",
       "</div>"
      ],
      "text/plain": [
       "   Sub-Category        Sales\n",
       "8     Fasteners    3001.9600\n",
       "10       Labels   12347.7260\n",
       "7     Envelopes   16128.0460\n",
       "2           Art   26705.4100\n",
       "15     Supplies   46420.3080\n",
       "12        Paper   76828.3040\n",
       "9   Furnishings   89212.0180\n",
       "1    Appliances  104618.4030\n",
       "4     Bookcases  113813.1987\n",
       "6       Copiers  146248.0940\n",
       "0   Accessories  164186.7000\n",
       "11     Machines  189238.6310\n",
       "3       Binders  200028.7850\n",
       "16       Tables  202810.6280\n",
       "14      Storage  219343.3920\n",
       "5        Chairs  322822.7310\n",
       "13       Phones  327782.4480"
      ]
     },
     "execution_count": 30,
     "metadata": {},
     "output_type": "execute_result"
    }
   ],
   "source": [
    "sales_by_subcategories = sales_data.groupby(['Sub-Category'])['Sales'].sum().reset_index()\n",
    "sales_by_subcategories = sales_by_subcategories.sort_values(by='Sales', ascending=True)\n",
    "sales_by_subcategories"
   ]
  },
  {
   "cell_type": "code",
   "execution_count": 31,
   "id": "05761d4d",
   "metadata": {
    "execution": {
     "iopub.execute_input": "2024-11-12T16:57:25.559539Z",
     "iopub.status.busy": "2024-11-12T16:57:25.558552Z",
     "iopub.status.idle": "2024-11-12T16:57:25.974603Z",
     "shell.execute_reply": "2024-11-12T16:57:25.972885Z"
    },
    "executionInfo": {
     "elapsed": 535,
     "status": "ok",
     "timestamp": 1730368886625,
     "user": {
      "displayName": "Muhamad Dafa Rizkiyanto",
      "userId": "16029394966179110856"
     },
     "user_tz": -420
    },
    "id": "I8WQP7NBb3RW",
    "outputId": "e5903942-2965-4917-bcc6-51ac06dd9b47",
    "papermill": {
     "duration": 0.461078,
     "end_time": "2024-11-12T16:57:25.978328",
     "exception": false,
     "start_time": "2024-11-12T16:57:25.517250",
     "status": "completed"
    },
    "tags": []
   },
   "outputs": [
    {
     "data": {
      "image/png": "[encoded data removed]",
      "text/plain": [
       "<Figure size 640x480 with 1 Axes>"
      ]
     },
     "metadata": {},
     "output_type": "display_data"
    }
   ],
   "source": [
    "plt.barh(sales_by_subcategories['Sub-Category'], sales_by_subcategories['Sales'], color=\"blue\")\n",
    "plt.xlabel('Total Sales')\n",
    "plt.ylabel('Sub-Category')\n",
    "plt.title('Total Sales per Sub-Category')\n",
    "plt.show()"
   ]
  },
  {
   "cell_type": "markdown",
   "id": "95afcde4",
   "metadata": {
    "id": "NAumUmtpXc7i",
    "papermill": {
     "duration": 0.035147,
     "end_time": "2024-11-12T16:57:26.054855",
     "exception": false,
     "start_time": "2024-11-12T16:57:26.019708",
     "status": "completed"
    },
    "tags": []
   },
   "source": [
    "# **Mode Of Shipping**"
   ]
  },
  {
   "cell_type": "code",
   "execution_count": 32,
   "id": "ab4c03b3",
   "metadata": {
    "execution": {
     "iopub.execute_input": "2024-11-12T16:57:26.117032Z",
     "iopub.status.busy": "2024-11-12T16:57:26.116566Z",
     "iopub.status.idle": "2024-11-12T16:57:26.139227Z",
     "shell.execute_reply": "2024-11-12T16:57:26.138087Z"
    },
    "executionInfo": {
     "elapsed": 10,
     "status": "ok",
     "timestamp": 1730368886626,
     "user": {
      "displayName": "Muhamad Dafa Rizkiyanto",
      "userId": "16029394966179110856"
     },
     "user_tz": -420
    },
    "id": "ib5NiROCXcec",
    "outputId": "1d134a35-9288-4f03-a5d4-165142eefffb",
    "papermill": {
     "duration": 0.056808,
     "end_time": "2024-11-12T16:57:26.141787",
     "exception": false,
     "start_time": "2024-11-12T16:57:26.084979",
     "status": "completed"
    },
    "tags": []
   },
   "outputs": [
    {
     "data": {
      "text/html": [
       "<div>\n",
       "<style scoped>\n",
       "    .dataframe tbody tr th:only-of-type {\n",
       "        vertical-align: middle;\n",
       "    }\n",
       "\n",
       "    .dataframe tbody tr th {\n",
       "        vertical-align: top;\n",
       "    }\n",
       "\n",
       "    .dataframe thead th {\n",
       "        text-align: right;\n",
       "    }\n",
       "</style>\n",
       "<table border=\"1\" class=\"dataframe\">\n",
       "  <thead>\n",
       "    <tr style=\"text-align: right;\">\n",
       "      <th></th>\n",
       "      <th>Row ID</th>\n",
       "      <th>Order ID</th>\n",
       "      <th>Order Date</th>\n",
       "      <th>Ship Date</th>\n",
       "      <th>Ship Mode</th>\n",
       "      <th>Customer ID</th>\n",
       "      <th>Customer Name</th>\n",
       "      <th>Segment</th>\n",
       "      <th>Country</th>\n",
       "      <th>City</th>\n",
       "      <th>State</th>\n",
       "      <th>Postal Code</th>\n",
       "      <th>Region</th>\n",
       "      <th>Product ID</th>\n",
       "      <th>Category</th>\n",
       "      <th>Sub-Category</th>\n",
       "      <th>Product Name</th>\n",
       "      <th>Sales</th>\n",
       "    </tr>\n",
       "  </thead>\n",
       "  <tbody>\n",
       "    <tr>\n",
       "      <th>0</th>\n",
       "      <td>1</td>\n",
       "      <td>CA-2017-152156</td>\n",
       "      <td>08/11/2017</td>\n",
       "      <td>11/11/2017</td>\n",
       "      <td>Second Class</td>\n",
       "      <td>CG-12520</td>\n",
       "      <td>Claire Gute</td>\n",
       "      <td>Consumer</td>\n",
       "      <td>United States</td>\n",
       "      <td>Henderson</td>\n",
       "      <td>Kentucky</td>\n",
       "      <td>42420</td>\n",
       "      <td>South</td>\n",
       "      <td>FUR-BO-10001798</td>\n",
       "      <td>Furniture</td>\n",
       "      <td>Bookcases</td>\n",
       "      <td>Bush Somerset Collection Bookcase</td>\n",
       "      <td>261.9600</td>\n",
       "    </tr>\n",
       "    <tr>\n",
       "      <th>1</th>\n",
       "      <td>2</td>\n",
       "      <td>CA-2017-152156</td>\n",
       "      <td>08/11/2017</td>\n",
       "      <td>11/11/2017</td>\n",
       "      <td>Second Class</td>\n",
       "      <td>CG-12520</td>\n",
       "      <td>Claire Gute</td>\n",
       "      <td>Consumer</td>\n",
       "      <td>United States</td>\n",
       "      <td>Henderson</td>\n",
       "      <td>Kentucky</td>\n",
       "      <td>42420</td>\n",
       "      <td>South</td>\n",
       "      <td>FUR-CH-10000454</td>\n",
       "      <td>Furniture</td>\n",
       "      <td>Chairs</td>\n",
       "      <td>Hon Deluxe Fabric Upholstered Stacking Chairs,...</td>\n",
       "      <td>731.9400</td>\n",
       "    </tr>\n",
       "    <tr>\n",
       "      <th>2</th>\n",
       "      <td>3</td>\n",
       "      <td>CA-2017-138688</td>\n",
       "      <td>12/06/2017</td>\n",
       "      <td>16/06/2017</td>\n",
       "      <td>Second Class</td>\n",
       "      <td>DV-13045</td>\n",
       "      <td>Darrin Van Huff</td>\n",
       "      <td>Corporate</td>\n",
       "      <td>United States</td>\n",
       "      <td>Los Angeles</td>\n",
       "      <td>California</td>\n",
       "      <td>90036</td>\n",
       "      <td>West</td>\n",
       "      <td>OFF-LA-10000240</td>\n",
       "      <td>Office Supplies</td>\n",
       "      <td>Labels</td>\n",
       "      <td>Self-Adhesive Address Labels for Typewriters b...</td>\n",
       "      <td>14.6200</td>\n",
       "    </tr>\n",
       "    <tr>\n",
       "      <th>3</th>\n",
       "      <td>4</td>\n",
       "      <td>US-2016-108966</td>\n",
       "      <td>11/10/2016</td>\n",
       "      <td>18/10/2016</td>\n",
       "      <td>Standard Class</td>\n",
       "      <td>SO-20335</td>\n",
       "      <td>Sean O'Donnell</td>\n",
       "      <td>Consumer</td>\n",
       "      <td>United States</td>\n",
       "      <td>Fort Lauderdale</td>\n",
       "      <td>Florida</td>\n",
       "      <td>33311</td>\n",
       "      <td>South</td>\n",
       "      <td>FUR-TA-10000577</td>\n",
       "      <td>Furniture</td>\n",
       "      <td>Tables</td>\n",
       "      <td>Bretford CR4500 Series Slim Rectangular Table</td>\n",
       "      <td>957.5775</td>\n",
       "    </tr>\n",
       "    <tr>\n",
       "      <th>4</th>\n",
       "      <td>5</td>\n",
       "      <td>US-2016-108966</td>\n",
       "      <td>11/10/2016</td>\n",
       "      <td>18/10/2016</td>\n",
       "      <td>Standard Class</td>\n",
       "      <td>SO-20335</td>\n",
       "      <td>Sean O'Donnell</td>\n",
       "      <td>Consumer</td>\n",
       "      <td>United States</td>\n",
       "      <td>Fort Lauderdale</td>\n",
       "      <td>Florida</td>\n",
       "      <td>33311</td>\n",
       "      <td>South</td>\n",
       "      <td>OFF-ST-10000760</td>\n",
       "      <td>Office Supplies</td>\n",
       "      <td>Storage</td>\n",
       "      <td>Eldon Fold 'N Roll Cart System</td>\n",
       "      <td>22.3680</td>\n",
       "    </tr>\n",
       "  </tbody>\n",
       "</table>\n",
       "</div>"
      ],
      "text/plain": [
       "   Row ID        Order ID  Order Date   Ship Date       Ship Mode Customer ID  \\\n",
       "0       1  CA-2017-152156  08/11/2017  11/11/2017    Second Class    CG-12520   \n",
       "1       2  CA-2017-152156  08/11/2017  11/11/2017    Second Class    CG-12520   \n",
       "2       3  CA-2017-138688  12/06/2017  16/06/2017    Second Class    DV-13045   \n",
       "3       4  US-2016-108966  11/10/2016  18/10/2016  Standard Class    SO-20335   \n",
       "4       5  US-2016-108966  11/10/2016  18/10/2016  Standard Class    SO-20335   \n",
       "\n",
       "     Customer Name    Segment        Country             City       State  \\\n",
       "0      Claire Gute   Consumer  United States        Henderson    Kentucky   \n",
       "1      Claire Gute   Consumer  United States        Henderson    Kentucky   \n",
       "2  Darrin Van Huff  Corporate  United States      Los Angeles  California   \n",
       "3   Sean O'Donnell   Consumer  United States  Fort Lauderdale     Florida   \n",
       "4   Sean O'Donnell   Consumer  United States  Fort Lauderdale     Florida   \n",
       "\n",
       "   Postal Code Region       Product ID         Category Sub-Category  \\\n",
       "0        42420  South  FUR-BO-10001798        Furniture    Bookcases   \n",
       "1        42420  South  FUR-CH-10000454        Furniture       Chairs   \n",
       "2        90036   West  OFF-LA-10000240  Office Supplies       Labels   \n",
       "3        33311  South  FUR-TA-10000577        Furniture       Tables   \n",
       "4        33311  South  OFF-ST-10000760  Office Supplies      Storage   \n",
       "\n",
       "                                        Product Name     Sales  \n",
       "0                  Bush Somerset Collection Bookcase  261.9600  \n",
       "1  Hon Deluxe Fabric Upholstered Stacking Chairs,...  731.9400  \n",
       "2  Self-Adhesive Address Labels for Typewriters b...   14.6200  \n",
       "3      Bretford CR4500 Series Slim Rectangular Table  957.5775  \n",
       "4                     Eldon Fold 'N Roll Cart System   22.3680  "
      ]
     },
     "execution_count": 32,
     "metadata": {},
     "output_type": "execute_result"
    }
   ],
   "source": [
    "sales_data.head(5)"
   ]
  },
  {
   "cell_type": "code",
   "execution_count": 33,
   "id": "25bb505a",
   "metadata": {
    "execution": {
     "iopub.execute_input": "2024-11-12T16:57:26.205950Z",
     "iopub.status.busy": "2024-11-12T16:57:26.205489Z",
     "iopub.status.idle": "2024-11-12T16:57:26.220005Z",
     "shell.execute_reply": "2024-11-12T16:57:26.218809Z"
    },
    "executionInfo": {
     "elapsed": 8,
     "status": "ok",
     "timestamp": 1730368886626,
     "user": {
      "displayName": "Muhamad Dafa Rizkiyanto",
      "userId": "16029394966179110856"
     },
     "user_tz": -420
    },
    "id": "7vFNqadYXoPd",
    "outputId": "a380803f-6ea9-4f56-ce01-ecbf0e62d7b9",
    "papermill": {
     "duration": 0.049852,
     "end_time": "2024-11-12T16:57:26.222754",
     "exception": false,
     "start_time": "2024-11-12T16:57:26.172902",
     "status": "completed"
    },
    "tags": []
   },
   "outputs": [
    {
     "data": {
      "text/html": [
       "<div>\n",
       "<style scoped>\n",
       "    .dataframe tbody tr th:only-of-type {\n",
       "        vertical-align: middle;\n",
       "    }\n",
       "\n",
       "    .dataframe tbody tr th {\n",
       "        vertical-align: top;\n",
       "    }\n",
       "\n",
       "    .dataframe thead th {\n",
       "        text-align: right;\n",
       "    }\n",
       "</style>\n",
       "<table border=\"1\" class=\"dataframe\">\n",
       "  <thead>\n",
       "    <tr style=\"text-align: right;\">\n",
       "      <th></th>\n",
       "      <th>Shipping Type</th>\n",
       "      <th>Frequency</th>\n",
       "    </tr>\n",
       "  </thead>\n",
       "  <tbody>\n",
       "    <tr>\n",
       "      <th>0</th>\n",
       "      <td>Standard Class</td>\n",
       "      <td>5859</td>\n",
       "    </tr>\n",
       "    <tr>\n",
       "      <th>1</th>\n",
       "      <td>Second Class</td>\n",
       "      <td>1902</td>\n",
       "    </tr>\n",
       "    <tr>\n",
       "      <th>2</th>\n",
       "      <td>First Class</td>\n",
       "      <td>1501</td>\n",
       "    </tr>\n",
       "    <tr>\n",
       "      <th>3</th>\n",
       "      <td>Same Day</td>\n",
       "      <td>538</td>\n",
       "    </tr>\n",
       "  </tbody>\n",
       "</table>\n",
       "</div>"
      ],
      "text/plain": [
       "    Shipping Type  Frequency\n",
       "0  Standard Class       5859\n",
       "1    Second Class       1902\n",
       "2     First Class       1501\n",
       "3        Same Day        538"
      ]
     },
     "execution_count": 33,
     "metadata": {},
     "output_type": "execute_result"
    }
   ],
   "source": [
    "shipping = sales_data[\"Ship Mode\"].value_counts().reset_index()\n",
    "shipping.columns = ['Shipping Type', 'Frequency']\n",
    "shipping\n"
   ]
  },
  {
   "cell_type": "code",
   "execution_count": 34,
   "id": "21968a4d",
   "metadata": {
    "execution": {
     "iopub.execute_input": "2024-11-12T16:57:26.288846Z",
     "iopub.status.busy": "2024-11-12T16:57:26.288408Z",
     "iopub.status.idle": "2024-11-12T16:57:26.423665Z",
     "shell.execute_reply": "2024-11-12T16:57:26.422403Z"
    },
    "executionInfo": {
     "elapsed": 510,
     "status": "ok",
     "timestamp": 1730368887129,
     "user": {
      "displayName": "Muhamad Dafa Rizkiyanto",
      "userId": "16029394966179110856"
     },
     "user_tz": -420
    },
    "id": "t9C3-8fiYF0M",
    "outputId": "fa9b8378-fbdb-4574-d075-4b76fedf3b77",
    "papermill": {
     "duration": 0.175451,
     "end_time": "2024-11-12T16:57:26.429072",
     "exception": false,
     "start_time": "2024-11-12T16:57:26.253621",
     "status": "completed"
    },
    "tags": []
   },
   "outputs": [
    {
     "data": {
      "image/png": "[encoded data removed]",
      "text/plain": [
       "<Figure size 640x480 with 1 Axes>"
      ]
     },
     "metadata": {},
     "output_type": "display_data"
    }
   ],
   "source": [
    "plt.pie(shipping['Frequency'], labels=shipping['Shipping Type'], autopct='%1.1f%%')\n",
    "plt.title('Popular Shipping Types')\n",
    "plt.show()"
   ]
  },
  {
   "cell_type": "markdown",
   "id": "80fbd214",
   "metadata": {
    "id": "Dcrwha8xYmnK",
    "papermill": {
     "duration": 0.035893,
     "end_time": "2024-11-12T16:57:26.530791",
     "exception": false,
     "start_time": "2024-11-12T16:57:26.494898",
     "status": "completed"
    },
    "tags": []
   },
   "source": [
    "## **Geographical Analysis**"
   ]
  },
  {
   "cell_type": "code",
   "execution_count": 35,
   "id": "7c0ff1c4",
   "metadata": {
    "execution": {
     "iopub.execute_input": "2024-11-12T16:57:26.597361Z",
     "iopub.status.busy": "2024-11-12T16:57:26.596908Z",
     "iopub.status.idle": "2024-11-12T16:57:26.608882Z",
     "shell.execute_reply": "2024-11-12T16:57:26.607591Z"
    },
    "executionInfo": {
     "elapsed": 30,
     "status": "ok",
     "timestamp": 1730368887129,
     "user": {
      "displayName": "Muhamad Dafa Rizkiyanto",
      "userId": "16029394966179110856"
     },
     "user_tz": -420
    },
    "id": "hjLjb5QIYFzK",
    "papermill": {
     "duration": 0.047733,
     "end_time": "2024-11-12T16:57:26.611949",
     "exception": false,
     "start_time": "2024-11-12T16:57:26.564216",
     "status": "completed"
    },
    "tags": []
   },
   "outputs": [],
   "source": [
    "customer_by_state = sales_data.groupby(['State'])['Customer ID'].count().reset_index()\n",
    "customer_by_state = customer_by_state.sort_values(by='Customer ID', ascending=False)\n",
    "customer_by_state.columns = ['State', 'Customer Count']\n"
   ]
  },
  {
   "cell_type": "code",
   "execution_count": 36,
   "id": "3f195c9c",
   "metadata": {
    "execution": {
     "iopub.execute_input": "2024-11-12T16:57:26.677007Z",
     "iopub.status.busy": "2024-11-12T16:57:26.676558Z",
     "iopub.status.idle": "2024-11-12T16:57:26.688614Z",
     "shell.execute_reply": "2024-11-12T16:57:26.687266Z"
    },
    "executionInfo": {
     "elapsed": 30,
     "status": "ok",
     "timestamp": 1730368887129,
     "user": {
      "displayName": "Muhamad Dafa Rizkiyanto",
      "userId": "16029394966179110856"
     },
     "user_tz": -420
    },
    "id": "obOzfZ_FYysr",
    "outputId": "27c6f9cd-0611-4a27-dbb2-05d4ace6d638",
    "papermill": {
     "duration": 0.047926,
     "end_time": "2024-11-12T16:57:26.691400",
     "exception": false,
     "start_time": "2024-11-12T16:57:26.643474",
     "status": "completed"
    },
    "tags": []
   },
   "outputs": [
    {
     "data": {
      "text/html": [
       "<div>\n",
       "<style scoped>\n",
       "    .dataframe tbody tr th:only-of-type {\n",
       "        vertical-align: middle;\n",
       "    }\n",
       "\n",
       "    .dataframe tbody tr th {\n",
       "        vertical-align: top;\n",
       "    }\n",
       "\n",
       "    .dataframe thead th {\n",
       "        text-align: right;\n",
       "    }\n",
       "</style>\n",
       "<table border=\"1\" class=\"dataframe\">\n",
       "  <thead>\n",
       "    <tr style=\"text-align: right;\">\n",
       "      <th></th>\n",
       "      <th>State</th>\n",
       "      <th>Customer Count</th>\n",
       "    </tr>\n",
       "  </thead>\n",
       "  <tbody>\n",
       "    <tr>\n",
       "      <th>3</th>\n",
       "      <td>California</td>\n",
       "      <td>1946</td>\n",
       "    </tr>\n",
       "    <tr>\n",
       "      <th>30</th>\n",
       "      <td>New York</td>\n",
       "      <td>1097</td>\n",
       "    </tr>\n",
       "    <tr>\n",
       "      <th>41</th>\n",
       "      <td>Texas</td>\n",
       "      <td>973</td>\n",
       "    </tr>\n",
       "    <tr>\n",
       "      <th>36</th>\n",
       "      <td>Pennsylvania</td>\n",
       "      <td>582</td>\n",
       "    </tr>\n",
       "    <tr>\n",
       "      <th>45</th>\n",
       "      <td>Washington</td>\n",
       "      <td>504</td>\n",
       "    </tr>\n",
       "  </tbody>\n",
       "</table>\n",
       "</div>"
      ],
      "text/plain": [
       "           State  Customer Count\n",
       "3     California            1946\n",
       "30      New York            1097\n",
       "41         Texas             973\n",
       "36  Pennsylvania             582\n",
       "45    Washington             504"
      ]
     },
     "execution_count": 36,
     "metadata": {},
     "output_type": "execute_result"
    }
   ],
   "source": [
    "customer_by_state = customer_by_state.head(5)\n",
    "customer_by_state"
   ]
  },
  {
   "cell_type": "markdown",
   "id": "97850a4d",
   "metadata": {
    "id": "jXjyWOG8TiG5",
    "papermill": {
     "duration": 0.031186,
     "end_time": "2024-11-12T16:57:26.755535",
     "exception": false,
     "start_time": "2024-11-12T16:57:26.724349",
     "status": "completed"
    },
    "tags": []
   },
   "source": [
    "# **Biggest Sales by City**"
   ]
  },
  {
   "cell_type": "code",
   "execution_count": 37,
   "id": "c670e91b",
   "metadata": {
    "execution": {
     "iopub.execute_input": "2024-11-12T16:57:26.821565Z",
     "iopub.status.busy": "2024-11-12T16:57:26.820363Z",
     "iopub.status.idle": "2024-11-12T16:57:26.834570Z",
     "shell.execute_reply": "2024-11-12T16:57:26.833230Z"
    },
    "executionInfo": {
     "elapsed": 27,
     "status": "ok",
     "timestamp": 1730368887129,
     "user": {
      "displayName": "Muhamad Dafa Rizkiyanto",
      "userId": "16029394966179110856"
     },
     "user_tz": -420
    },
    "id": "VV5eRDDWSggj",
    "outputId": "e553b58f-d5f3-4941-83a9-e2732b08627c",
    "papermill": {
     "duration": 0.050008,
     "end_time": "2024-11-12T16:57:26.837194",
     "exception": false,
     "start_time": "2024-11-12T16:57:26.787186",
     "status": "completed"
    },
    "tags": []
   },
   "outputs": [
    {
     "name": "stdout",
     "output_type": "stream",
     "text": [
      "              City  Total Sales\n",
      "327  New York City   252462.547\n",
      "265    Los Angeles   173420.181\n",
      "450        Seattle   116106.322\n",
      "436  San Francisco   109041.120\n",
      "372   Philadelphia   108841.749\n",
      "..             ...          ...\n",
      "352   Ormond Beach        2.808\n",
      "368      Pensacola        2.214\n",
      "221        Jupiter        2.064\n",
      "140         Elyria        1.824\n",
      "1          Abilene        1.392\n",
      "\n",
      "[529 rows x 2 columns]\n"
     ]
    }
   ],
   "source": [
    "city_by_sales = sales_data.groupby(['City'])['Sales'].sum().reset_index()\n",
    "city_by_sales = city_by_sales.sort_values(by='Sales', ascending=False)\n",
    "city_by_sales.columns = ['City', 'Total Sales']\n",
    "print(city_by_sales)\n"
   ]
  },
  {
   "cell_type": "code",
   "execution_count": 38,
   "id": "25cd7e01",
   "metadata": {
    "execution": {
     "iopub.execute_input": "2024-11-12T16:57:26.903638Z",
     "iopub.status.busy": "2024-11-12T16:57:26.903200Z",
     "iopub.status.idle": "2024-11-12T16:57:27.176369Z",
     "shell.execute_reply": "2024-11-12T16:57:27.174966Z"
    },
    "executionInfo": {
     "elapsed": 19,
     "status": "ok",
     "timestamp": 1730368887130,
     "user": {
      "displayName": "Muhamad Dafa Rizkiyanto",
      "userId": "16029394966179110856"
     },
     "user_tz": -420
    },
    "id": "VP3d6hRkTKfc",
    "outputId": "03ca2c57-2023-406b-895f-f1c14cd2d7e6",
    "papermill": {
     "duration": 0.310013,
     "end_time": "2024-11-12T16:57:27.179234",
     "exception": false,
     "start_time": "2024-11-12T16:57:26.869221",
     "status": "completed"
    },
    "tags": []
   },
   "outputs": [
    {
     "data": {
      "image/png": "[encoded data removed]",
      "text/plain": [
       "<Figure size 640x480 with 1 Axes>"
      ]
     },
     "metadata": {},
     "output_type": "display_data"
    }
   ],
   "source": [
    "colors = plt.cm.viridis(np.linspace(0, 1, 5))\n",
    "city_by_sales = city_by_sales.sort_values(by='Total Sales', ascending=False).head(5)\n",
    "\n",
    "plt.bar(city_by_sales['City'], city_by_sales['Total Sales'], color=colors)\n",
    "plt.xlabel('City')\n",
    "plt.ylabel('Total Sales')\n",
    "plt.title('Top 5 Sales per City')\n",
    "plt.show()"
   ]
  },
  {
   "cell_type": "markdown",
   "id": "7bbb8b99",
   "metadata": {
    "id": "oI_dnXIMcs7H",
    "papermill": {
     "duration": 0.031558,
     "end_time": "2024-11-12T16:57:27.242822",
     "exception": false,
     "start_time": "2024-11-12T16:57:27.211264",
     "status": "completed"
    },
    "tags": []
   },
   "source": [
    "# **Year-over-year sales**"
   ]
  },
  {
   "cell_type": "code",
   "execution_count": 39,
   "id": "b19e7c5e",
   "metadata": {
    "execution": {
     "iopub.execute_input": "2024-11-12T16:57:27.310221Z",
     "iopub.status.busy": "2024-11-12T16:57:27.309739Z",
     "iopub.status.idle": "2024-11-12T16:57:27.342209Z",
     "shell.execute_reply": "2024-11-12T16:57:27.340912Z"
    },
    "executionInfo": {
     "elapsed": 17,
     "status": "ok",
     "timestamp": 1730368887130,
     "user": {
      "displayName": "Muhamad Dafa Rizkiyanto",
      "userId": "16029394966179110856"
     },
     "user_tz": -420
    },
    "id": "xZcWF0u7cwjk",
    "outputId": "5162d1d8-7ced-423f-d22f-3f81085e8c60",
    "papermill": {
     "duration": 0.069283,
     "end_time": "2024-11-12T16:57:27.344671",
     "exception": false,
     "start_time": "2024-11-12T16:57:27.275388",
     "status": "completed"
    },
    "tags": []
   },
   "outputs": [
    {
     "data": {
      "text/html": [
       "<div>\n",
       "<style scoped>\n",
       "    .dataframe tbody tr th:only-of-type {\n",
       "        vertical-align: middle;\n",
       "    }\n",
       "\n",
       "    .dataframe tbody tr th {\n",
       "        vertical-align: top;\n",
       "    }\n",
       "\n",
       "    .dataframe thead th {\n",
       "        text-align: right;\n",
       "    }\n",
       "</style>\n",
       "<table border=\"1\" class=\"dataframe\">\n",
       "  <thead>\n",
       "    <tr style=\"text-align: right;\">\n",
       "      <th></th>\n",
       "      <th>Year</th>\n",
       "      <th>Total Sales</th>\n",
       "    </tr>\n",
       "  </thead>\n",
       "  <tbody>\n",
       "    <tr>\n",
       "      <th>0</th>\n",
       "      <td>2015</td>\n",
       "      <td>479856.2081</td>\n",
       "    </tr>\n",
       "    <tr>\n",
       "      <th>1</th>\n",
       "      <td>2016</td>\n",
       "      <td>459436.0054</td>\n",
       "    </tr>\n",
       "    <tr>\n",
       "      <th>2</th>\n",
       "      <td>2017</td>\n",
       "      <td>600192.5500</td>\n",
       "    </tr>\n",
       "    <tr>\n",
       "      <th>3</th>\n",
       "      <td>2018</td>\n",
       "      <td>722052.0192</td>\n",
       "    </tr>\n",
       "  </tbody>\n",
       "</table>\n",
       "</div>"
      ],
      "text/plain": [
       "   Year  Total Sales\n",
       "0  2015  479856.2081\n",
       "1  2016  459436.0054\n",
       "2  2017  600192.5500\n",
       "3  2018  722052.0192"
      ]
     },
     "execution_count": 39,
     "metadata": {},
     "output_type": "execute_result"
    }
   ],
   "source": [
    "sales_data[\"Order Date\"] = pd.to_datetime(sales_data[\"Order Date\"], dayfirst=True)\n",
    "yearly_sales = sales_data.groupby(sales_data[\"Order Date\"].dt.year)[\"Sales\"].sum().reset_index()\n",
    "yearly_sales.columns = [\"Year\", \"Total Sales\"]\n",
    "yearly_sales\n"
   ]
  },
  {
   "cell_type": "code",
   "execution_count": 40,
   "id": "43c62b2f",
   "metadata": {
    "execution": {
     "iopub.execute_input": "2024-11-12T16:57:27.412289Z",
     "iopub.status.busy": "2024-11-12T16:57:27.410961Z",
     "iopub.status.idle": "2024-11-12T16:57:27.737866Z",
     "shell.execute_reply": "2024-11-12T16:57:27.736637Z"
    },
    "executionInfo": {
     "elapsed": 581,
     "status": "ok",
     "timestamp": 1730368887696,
     "user": {
      "displayName": "Muhamad Dafa Rizkiyanto",
      "userId": "16029394966179110856"
     },
     "user_tz": -420
    },
    "id": "973eGnVBd1K9",
    "outputId": "3d2ee7dd-7140-41ca-8a6b-7e23d4dad7cc",
    "papermill": {
     "duration": 0.363267,
     "end_time": "2024-11-12T16:57:27.740476",
     "exception": false,
     "start_time": "2024-11-12T16:57:27.377209",
     "status": "completed"
    },
    "tags": []
   },
   "outputs": [
    {
     "data": {
      "image/png": "[encoded data removed]",
      "text/plain": [
       "<Figure size 640x480 with 1 Axes>"
      ]
     },
     "metadata": {},
     "output_type": "display_data"
    }
   ],
   "source": [
    "plt.bar(yearly_sales[\"Year\"], yearly_sales[\"Total Sales\"], color=\"purple\")\n",
    "plt.xlabel(\"Year\")\n",
    "plt.ylabel(\"Total Sales\")\n",
    "plt.title(\"Total Sales per Year\")\n",
    "plt.xticks(rotation=65)\n",
    "plt.show()"
   ]
  },
  {
   "cell_type": "markdown",
   "id": "9f6a35f1",
   "metadata": {
    "id": "QrHHMaieecgH",
    "papermill": {
     "duration": 0.032578,
     "end_time": "2024-11-12T16:57:27.806741",
     "exception": false,
     "start_time": "2024-11-12T16:57:27.774163",
     "status": "completed"
    },
    "tags": []
   },
   "source": [
    "# **Quarter Sales 2015**"
   ]
  },
  {
   "cell_type": "code",
   "execution_count": 41,
   "id": "1ee8ce43",
   "metadata": {
    "execution": {
     "iopub.execute_input": "2024-11-12T16:57:27.875606Z",
     "iopub.status.busy": "2024-11-12T16:57:27.875155Z",
     "iopub.status.idle": "2024-11-12T16:57:27.926618Z",
     "shell.execute_reply": "2024-11-12T16:57:27.925398Z"
    },
    "executionInfo": {
     "elapsed": 9,
     "status": "ok",
     "timestamp": 1730368887697,
     "user": {
      "displayName": "Muhamad Dafa Rizkiyanto",
      "userId": "16029394966179110856"
     },
     "user_tz": -420
    },
    "id": "w2iFLfxEefMC",
    "outputId": "4932628f-fa50-4b03-cacd-b067ed88b778",
    "papermill": {
     "duration": 0.089212,
     "end_time": "2024-11-12T16:57:27.929379",
     "exception": false,
     "start_time": "2024-11-12T16:57:27.840167",
     "status": "completed"
    },
    "tags": []
   },
   "outputs": [
    {
     "data": {
      "text/html": [
       "<div>\n",
       "<style scoped>\n",
       "    .dataframe tbody tr th:only-of-type {\n",
       "        vertical-align: middle;\n",
       "    }\n",
       "\n",
       "    .dataframe tbody tr th {\n",
       "        vertical-align: top;\n",
       "    }\n",
       "\n",
       "    .dataframe thead th {\n",
       "        text-align: right;\n",
       "    }\n",
       "</style>\n",
       "<table border=\"1\" class=\"dataframe\">\n",
       "  <thead>\n",
       "    <tr style=\"text-align: right;\">\n",
       "      <th></th>\n",
       "      <th>Quarter</th>\n",
       "      <th>Total Sales</th>\n",
       "    </tr>\n",
       "  </thead>\n",
       "  <tbody>\n",
       "    <tr>\n",
       "      <th>0</th>\n",
       "      <td>2015-03-31</td>\n",
       "      <td>73931.3960</td>\n",
       "    </tr>\n",
       "    <tr>\n",
       "      <th>1</th>\n",
       "      <td>2015-06-30</td>\n",
       "      <td>85874.0936</td>\n",
       "    </tr>\n",
       "    <tr>\n",
       "      <th>2</th>\n",
       "      <td>2015-09-30</td>\n",
       "      <td>142522.6063</td>\n",
       "    </tr>\n",
       "    <tr>\n",
       "      <th>3</th>\n",
       "      <td>2015-12-31</td>\n",
       "      <td>177528.1122</td>\n",
       "    </tr>\n",
       "  </tbody>\n",
       "</table>\n",
       "</div>"
      ],
      "text/plain": [
       "     Quarter  Total Sales\n",
       "0 2015-03-31   73931.3960\n",
       "1 2015-06-30   85874.0936\n",
       "2 2015-09-30  142522.6063\n",
       "3 2015-12-31  177528.1122"
      ]
     },
     "execution_count": 41,
     "metadata": {},
     "output_type": "execute_result"
    }
   ],
   "source": [
    "# Convert 'Order Date' column to datetime\n",
    "sales_data['Order Date'] = pd.to_datetime(sales_data[\"Order Date\"], dayfirst=True)\n",
    "\n",
    "# Filter data for the year 2015\n",
    "year_sales = sales_data[sales_data[\"Order Date\"].dt.year == 2015]\n",
    "\n",
    "# Set 'Order Date' as the index\n",
    "year_sales.set_index('Order Date', inplace=True)\n",
    "\n",
    "# Calculate total sales per quarter\n",
    "quarterly_sales = year_sales['Sales'].resample('QE').sum()\n",
    "\n",
    "# Reset index and rename columns\n",
    "quarterly_sales = quarterly_sales.reset_index()\n",
    "quarterly_sales.columns = [\"Quarter\", \"Total Sales\"]\n",
    "\n",
    "# Display the results\n",
    "quarterly_sales\n"
   ]
  },
  {
   "cell_type": "code",
   "execution_count": 42,
   "id": "e53fc26d",
   "metadata": {
    "execution": {
     "iopub.execute_input": "2024-11-12T16:57:27.998339Z",
     "iopub.status.busy": "2024-11-12T16:57:27.997890Z",
     "iopub.status.idle": "2024-11-12T16:57:28.335211Z",
     "shell.execute_reply": "2024-11-12T16:57:28.333724Z"
    },
    "executionInfo": {
     "elapsed": 8,
     "status": "ok",
     "timestamp": 1730368887697,
     "user": {
      "displayName": "Muhamad Dafa Rizkiyanto",
      "userId": "16029394966179110856"
     },
     "user_tz": -420
    },
    "id": "47Ugd7HvgHU2",
    "outputId": "1fed10b5-4cf5-481c-8ab4-69e7d4898d41",
    "papermill": {
     "duration": 0.374623,
     "end_time": "2024-11-12T16:57:28.337911",
     "exception": false,
     "start_time": "2024-11-12T16:57:27.963288",
     "status": "completed"
    },
    "tags": []
   },
   "outputs": [
    {
     "data": {
      "image/png": "[encoded data removed]",
      "text/plain": [
       "<Figure size 640x480 with 1 Axes>"
      ]
     },
     "metadata": {},
     "output_type": "display_data"
    }
   ],
   "source": [
    "plt.plot(quarterly_sales[\"Quarter\"], quarterly_sales[\"Total Sales\"], marker='o', linestyle=\"--\", color=\"purple\")\n",
    "plt.xlabel(\"Year\")\n",
    "plt.ylabel(\"Total Sales\")\n",
    "plt.title(\"Total Sales per Year\")\n",
    "plt.xticks(rotation=65)\n",
    "plt.show()\n"
   ]
  },
  {
   "cell_type": "markdown",
   "id": "ed354be4",
   "metadata": {
    "id": "E9uoag6Rgmqr",
    "papermill": {
     "duration": 0.03342,
     "end_time": "2024-11-12T16:57:28.405459",
     "exception": false,
     "start_time": "2024-11-12T16:57:28.372039",
     "status": "completed"
    },
    "tags": []
   },
   "source": [
    "# **Monthly Sales trend for a year (2015)**"
   ]
  },
  {
   "cell_type": "code",
   "execution_count": 43,
   "id": "c59e398d",
   "metadata": {
    "execution": {
     "iopub.execute_input": "2024-11-12T16:57:28.474662Z",
     "iopub.status.busy": "2024-11-12T16:57:28.474249Z",
     "iopub.status.idle": "2024-11-12T16:57:28.515505Z",
     "shell.execute_reply": "2024-11-12T16:57:28.514198Z"
    },
    "executionInfo": {
     "elapsed": 443,
     "status": "ok",
     "timestamp": 1730368888133,
     "user": {
      "displayName": "Muhamad Dafa Rizkiyanto",
      "userId": "16029394966179110856"
     },
     "user_tz": -420
    },
    "id": "CLW55glHgmRX",
    "outputId": "b596ef45-8d18-4a00-c0d9-82da1d4828e8",
    "papermill": {
     "duration": 0.078967,
     "end_time": "2024-11-12T16:57:28.518129",
     "exception": false,
     "start_time": "2024-11-12T16:57:28.439162",
     "status": "completed"
    },
    "tags": []
   },
   "outputs": [
    {
     "data": {
      "text/html": [
       "<div>\n",
       "<style scoped>\n",
       "    .dataframe tbody tr th:only-of-type {\n",
       "        vertical-align: middle;\n",
       "    }\n",
       "\n",
       "    .dataframe tbody tr th {\n",
       "        vertical-align: top;\n",
       "    }\n",
       "\n",
       "    .dataframe thead th {\n",
       "        text-align: right;\n",
       "    }\n",
       "</style>\n",
       "<table border=\"1\" class=\"dataframe\">\n",
       "  <thead>\n",
       "    <tr style=\"text-align: right;\">\n",
       "      <th></th>\n",
       "      <th>Month</th>\n",
       "      <th>Total Sales</th>\n",
       "    </tr>\n",
       "  </thead>\n",
       "  <tbody>\n",
       "    <tr>\n",
       "      <th>0</th>\n",
       "      <td>2015-01-31</td>\n",
       "      <td>14205.7070</td>\n",
       "    </tr>\n",
       "    <tr>\n",
       "      <th>1</th>\n",
       "      <td>2015-02-28</td>\n",
       "      <td>4519.8920</td>\n",
       "    </tr>\n",
       "    <tr>\n",
       "      <th>2</th>\n",
       "      <td>2015-03-31</td>\n",
       "      <td>55205.7970</td>\n",
       "    </tr>\n",
       "    <tr>\n",
       "      <th>3</th>\n",
       "      <td>2015-04-30</td>\n",
       "      <td>27906.8550</td>\n",
       "    </tr>\n",
       "    <tr>\n",
       "      <th>4</th>\n",
       "      <td>2015-05-31</td>\n",
       "      <td>23644.3030</td>\n",
       "    </tr>\n",
       "    <tr>\n",
       "      <th>5</th>\n",
       "      <td>2015-06-30</td>\n",
       "      <td>34322.9356</td>\n",
       "    </tr>\n",
       "    <tr>\n",
       "      <th>6</th>\n",
       "      <td>2015-07-31</td>\n",
       "      <td>33781.5430</td>\n",
       "    </tr>\n",
       "    <tr>\n",
       "      <th>7</th>\n",
       "      <td>2015-08-31</td>\n",
       "      <td>27117.5365</td>\n",
       "    </tr>\n",
       "    <tr>\n",
       "      <th>8</th>\n",
       "      <td>2015-09-30</td>\n",
       "      <td>81623.5268</td>\n",
       "    </tr>\n",
       "    <tr>\n",
       "      <th>9</th>\n",
       "      <td>2015-10-31</td>\n",
       "      <td>31453.3930</td>\n",
       "    </tr>\n",
       "    <tr>\n",
       "      <th>10</th>\n",
       "      <td>2015-11-30</td>\n",
       "      <td>77907.6607</td>\n",
       "    </tr>\n",
       "    <tr>\n",
       "      <th>11</th>\n",
       "      <td>2015-12-31</td>\n",
       "      <td>68167.0585</td>\n",
       "    </tr>\n",
       "  </tbody>\n",
       "</table>\n",
       "</div>"
      ],
      "text/plain": [
       "        Month  Total Sales\n",
       "0  2015-01-31   14205.7070\n",
       "1  2015-02-28    4519.8920\n",
       "2  2015-03-31   55205.7970\n",
       "3  2015-04-30   27906.8550\n",
       "4  2015-05-31   23644.3030\n",
       "5  2015-06-30   34322.9356\n",
       "6  2015-07-31   33781.5430\n",
       "7  2015-08-31   27117.5365\n",
       "8  2015-09-30   81623.5268\n",
       "9  2015-10-31   31453.3930\n",
       "10 2015-11-30   77907.6607\n",
       "11 2015-12-31   68167.0585"
      ]
     },
     "execution_count": 43,
     "metadata": {},
     "output_type": "execute_result"
    }
   ],
   "source": [
    "# Convert the 'Order Date' column to datetime\n",
    "sales_data['Order Date'] = pd.to_datetime(sales_data[\"Order Date\"], dayfirst=True)\n",
    "\n",
    "# Filter data for the year 2015\n",
    "year_sales = sales_data[sales_data[\"Order Date\"].dt.year == 2015]\n",
    "\n",
    "# Calculate total sales per month\n",
    "monthly_sales = year_sales.resample('ME', on='Order Date')['Sales'].sum()\n",
    "\n",
    "# Reset the index and rename the columns\n",
    "monthly_sales = monthly_sales.reset_index()\n",
    "monthly_sales.columns = [\"Month\", \"Total Sales\"]\n",
    "monthly_sales\n"
   ]
  },
  {
   "cell_type": "code",
   "execution_count": 44,
   "id": "d0017fab",
   "metadata": {
    "execution": {
     "iopub.execute_input": "2024-11-12T16:57:28.649077Z",
     "iopub.status.busy": "2024-11-12T16:57:28.647921Z",
     "iopub.status.idle": "2024-11-12T16:57:29.017432Z",
     "shell.execute_reply": "2024-11-12T16:57:29.016328Z"
    },
    "executionInfo": {
     "elapsed": 5,
     "status": "ok",
     "timestamp": 1730368888134,
     "user": {
      "displayName": "Muhamad Dafa Rizkiyanto",
      "userId": "16029394966179110856"
     },
     "user_tz": -420
    },
    "id": "nifPLwYZhBBK",
    "outputId": "cf28b05a-698b-435f-d689-80a3708f2f3f",
    "papermill": {
     "duration": 0.467657,
     "end_time": "2024-11-12T16:57:29.020149",
     "exception": false,
     "start_time": "2024-11-12T16:57:28.552492",
     "status": "completed"
    },
    "tags": []
   },
   "outputs": [
    {
     "data": {
      "image/png": "[encoded data removed]",
      "text/plain": [
       "<Figure size 640x480 with 1 Axes>"
      ]
     },
     "metadata": {},
     "output_type": "display_data"
    }
   ],
   "source": [
    "plt.plot(monthly_sales[\"Month\"], monthly_sales[\"Total Sales\"], marker='o', linestyle=\"--\", color=\"purple\")\n",
    "plt.xlabel(\"Year\")\n",
    "plt.ylabel(\"Total Sales\")\n",
    "plt.title(\"Total Sales per Month\")\n",
    "plt.xticks(rotation=65)\n",
    "plt.show()\n"
   ]
  }
 ],
 "metadata": {
  "colab": {
   "authorship_tag": "ABX9TyNm2ss8Z7/D/ff6+5ZgdweU",
   "provenance": []
  },
  "kaggle": {
   "accelerator": "none",
   "dataSources": [
    {
     "datasetId": 5985201,
     "sourceId": 9771500,
     "sourceType": "datasetVersion"
    }
   ],
   "dockerImageVersionId": 30786,
   "isGpuEnabled": false,
   "isInternetEnabled": true,
   "language": "python",
   "sourceType": "notebook"
  },
  "kernelspec": {
   "display_name": "Python 3",
   "language": "python",
   "name": "python3"
  },
  "language_info": {
   "codemirror_mode": {
    "name": "ipython",
    "version": 3
   },
   "file_extension": ".py",
   "mimetype": "text/x-python",
   "name": "python",
   "nbconvert_exporter": "python",
   "pygments_lexer": "ipython3",
   "version": "3.10.14"
  },
  "papermill": {
   "default_parameters": {},
   "duration": 12.264395,
   "end_time": "2024-11-12T16:57:29.577697",
   "environment_variables": {},
   "exception": null,
   "input_path": "__notebook__.ipynb",
   "output_path": "__notebook__.ipynb",
   "parameters": {},
   "start_time": "2024-11-12T16:57:17.313302",
   "version": "2.6.0"
  }
 },
 "nbformat": 4,
 "nbformat_minor": 5
}
